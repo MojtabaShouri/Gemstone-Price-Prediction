{
 "cells": [
  {
   "cell_type": "markdown",
   "id": "d457bc07",
   "metadata": {},
   "source": [
    "# Problem Statement:"
   ]
  },
  {
   "cell_type": "markdown",
   "id": "7b1ed028",
   "metadata": {},
   "source": [
    "You are hired by a company Gem Stones co ltd, which is a cubic zirconia manufacturer. You are provided with the dataset containing the prices and other attributes of almost 27,000 cubic zirconia (which is an inexpensive diamond alternative with many of the same qualities as a diamond). The company is earning different profits on different prize slots. You have to help the company in predicting the price for the stone on the basis of the details given in the dataset so it can distinguish between higher profitable stones and lower profitable stones so as to have a better profit share. Also, provide them with the best 5 attributes that are most important.\n",
    "\n",
    "You can find the dataset at:https://www.kaggle.com/datasets/colearninglounge/gemstone-price-prediction"
   ]
  },
  {
   "cell_type": "code",
   "execution_count": 1,
   "id": "24fc9229",
   "metadata": {},
   "outputs": [],
   "source": [
    "#Importing some basic libraries\n",
    "import os\n",
    "import numpy as np\n",
    "import pandas as pd"
   ]
  },
  {
   "cell_type": "code",
   "execution_count": 2,
   "id": "74b863fa",
   "metadata": {},
   "outputs": [],
   "source": [
    "import warnings\n",
    "warnings.filterwarnings('ignore')"
   ]
  },
  {
   "cell_type": "code",
   "execution_count": 3,
   "id": "a1f9a31f",
   "metadata": {},
   "outputs": [],
   "source": [
    "os.chdir(r\"Downloads\")"
   ]
  },
  {
   "cell_type": "code",
   "execution_count": 4,
   "id": "3335908e",
   "metadata": {},
   "outputs": [],
   "source": [
    "df=pd.read_csv('cubic_zirconia.csv')"
   ]
  },
  {
   "cell_type": "code",
   "execution_count": 5,
   "id": "527a9533",
   "metadata": {},
   "outputs": [
    {
     "data": {
      "text/plain": [
       "(26967, 11)"
      ]
     },
     "execution_count": 5,
     "metadata": {},
     "output_type": "execute_result"
    }
   ],
   "source": [
    "df.shape"
   ]
  },
  {
   "cell_type": "code",
   "execution_count": 6,
   "id": "e4e188dc",
   "metadata": {},
   "outputs": [
    {
     "data": {
      "text/html": [
       "<div>\n",
       "<style scoped>\n",
       "    .dataframe tbody tr th:only-of-type {\n",
       "        vertical-align: middle;\n",
       "    }\n",
       "\n",
       "    .dataframe tbody tr th {\n",
       "        vertical-align: top;\n",
       "    }\n",
       "\n",
       "    .dataframe thead th {\n",
       "        text-align: right;\n",
       "    }\n",
       "</style>\n",
       "<table border=\"1\" class=\"dataframe\">\n",
       "  <thead>\n",
       "    <tr style=\"text-align: right;\">\n",
       "      <th></th>\n",
       "      <th>Unnamed: 0</th>\n",
       "      <th>carat</th>\n",
       "      <th>cut</th>\n",
       "      <th>color</th>\n",
       "      <th>clarity</th>\n",
       "      <th>depth</th>\n",
       "      <th>table</th>\n",
       "      <th>x</th>\n",
       "      <th>y</th>\n",
       "      <th>z</th>\n",
       "      <th>price</th>\n",
       "    </tr>\n",
       "  </thead>\n",
       "  <tbody>\n",
       "    <tr>\n",
       "      <th>0</th>\n",
       "      <td>1</td>\n",
       "      <td>0.30</td>\n",
       "      <td>Ideal</td>\n",
       "      <td>E</td>\n",
       "      <td>SI1</td>\n",
       "      <td>62.1</td>\n",
       "      <td>58.0</td>\n",
       "      <td>4.27</td>\n",
       "      <td>4.29</td>\n",
       "      <td>2.66</td>\n",
       "      <td>499</td>\n",
       "    </tr>\n",
       "    <tr>\n",
       "      <th>1</th>\n",
       "      <td>2</td>\n",
       "      <td>0.33</td>\n",
       "      <td>Premium</td>\n",
       "      <td>G</td>\n",
       "      <td>IF</td>\n",
       "      <td>60.8</td>\n",
       "      <td>58.0</td>\n",
       "      <td>4.42</td>\n",
       "      <td>4.46</td>\n",
       "      <td>2.70</td>\n",
       "      <td>984</td>\n",
       "    </tr>\n",
       "    <tr>\n",
       "      <th>2</th>\n",
       "      <td>3</td>\n",
       "      <td>0.90</td>\n",
       "      <td>Very Good</td>\n",
       "      <td>E</td>\n",
       "      <td>VVS2</td>\n",
       "      <td>62.2</td>\n",
       "      <td>60.0</td>\n",
       "      <td>6.04</td>\n",
       "      <td>6.12</td>\n",
       "      <td>3.78</td>\n",
       "      <td>6289</td>\n",
       "    </tr>\n",
       "    <tr>\n",
       "      <th>3</th>\n",
       "      <td>4</td>\n",
       "      <td>0.42</td>\n",
       "      <td>Ideal</td>\n",
       "      <td>F</td>\n",
       "      <td>VS1</td>\n",
       "      <td>61.6</td>\n",
       "      <td>56.0</td>\n",
       "      <td>4.82</td>\n",
       "      <td>4.80</td>\n",
       "      <td>2.96</td>\n",
       "      <td>1082</td>\n",
       "    </tr>\n",
       "    <tr>\n",
       "      <th>4</th>\n",
       "      <td>5</td>\n",
       "      <td>0.31</td>\n",
       "      <td>Ideal</td>\n",
       "      <td>F</td>\n",
       "      <td>VVS1</td>\n",
       "      <td>60.4</td>\n",
       "      <td>59.0</td>\n",
       "      <td>4.35</td>\n",
       "      <td>4.43</td>\n",
       "      <td>2.65</td>\n",
       "      <td>779</td>\n",
       "    </tr>\n",
       "  </tbody>\n",
       "</table>\n",
       "</div>"
      ],
      "text/plain": [
       "   Unnamed: 0  carat        cut color clarity  depth  table     x     y     z  \\\n",
       "0           1   0.30      Ideal     E     SI1   62.1   58.0  4.27  4.29  2.66   \n",
       "1           2   0.33    Premium     G      IF   60.8   58.0  4.42  4.46  2.70   \n",
       "2           3   0.90  Very Good     E    VVS2   62.2   60.0  6.04  6.12  3.78   \n",
       "3           4   0.42      Ideal     F     VS1   61.6   56.0  4.82  4.80  2.96   \n",
       "4           5   0.31      Ideal     F    VVS1   60.4   59.0  4.35  4.43  2.65   \n",
       "\n",
       "   price  \n",
       "0    499  \n",
       "1    984  \n",
       "2   6289  \n",
       "3   1082  \n",
       "4    779  "
      ]
     },
     "execution_count": 6,
     "metadata": {},
     "output_type": "execute_result"
    }
   ],
   "source": [
    "df.head()"
   ]
  },
  {
   "cell_type": "code",
   "execution_count": 7,
   "id": "9cc898b0",
   "metadata": {},
   "outputs": [],
   "source": [
    "#Dropping the first column\n",
    "df=df.iloc[:, 1:]"
   ]
  },
  {
   "cell_type": "code",
   "execution_count": 8,
   "id": "c6bfda5e",
   "metadata": {},
   "outputs": [
    {
     "data": {
      "text/plain": [
       "(26967, 10)"
      ]
     },
     "execution_count": 8,
     "metadata": {},
     "output_type": "execute_result"
    }
   ],
   "source": [
    "df.shape"
   ]
  },
  {
   "cell_type": "code",
   "execution_count": 9,
   "id": "bb4e3035",
   "metadata": {},
   "outputs": [
    {
     "data": {
      "text/html": [
       "<div>\n",
       "<style scoped>\n",
       "    .dataframe tbody tr th:only-of-type {\n",
       "        vertical-align: middle;\n",
       "    }\n",
       "\n",
       "    .dataframe tbody tr th {\n",
       "        vertical-align: top;\n",
       "    }\n",
       "\n",
       "    .dataframe thead th {\n",
       "        text-align: right;\n",
       "    }\n",
       "</style>\n",
       "<table border=\"1\" class=\"dataframe\">\n",
       "  <thead>\n",
       "    <tr style=\"text-align: right;\">\n",
       "      <th></th>\n",
       "      <th>carat</th>\n",
       "      <th>cut</th>\n",
       "      <th>color</th>\n",
       "      <th>clarity</th>\n",
       "      <th>depth</th>\n",
       "      <th>table</th>\n",
       "      <th>x</th>\n",
       "      <th>y</th>\n",
       "      <th>z</th>\n",
       "      <th>price</th>\n",
       "    </tr>\n",
       "  </thead>\n",
       "  <tbody>\n",
       "    <tr>\n",
       "      <th>0</th>\n",
       "      <td>0.30</td>\n",
       "      <td>Ideal</td>\n",
       "      <td>E</td>\n",
       "      <td>SI1</td>\n",
       "      <td>62.1</td>\n",
       "      <td>58.0</td>\n",
       "      <td>4.27</td>\n",
       "      <td>4.29</td>\n",
       "      <td>2.66</td>\n",
       "      <td>499</td>\n",
       "    </tr>\n",
       "    <tr>\n",
       "      <th>1</th>\n",
       "      <td>0.33</td>\n",
       "      <td>Premium</td>\n",
       "      <td>G</td>\n",
       "      <td>IF</td>\n",
       "      <td>60.8</td>\n",
       "      <td>58.0</td>\n",
       "      <td>4.42</td>\n",
       "      <td>4.46</td>\n",
       "      <td>2.70</td>\n",
       "      <td>984</td>\n",
       "    </tr>\n",
       "    <tr>\n",
       "      <th>2</th>\n",
       "      <td>0.90</td>\n",
       "      <td>Very Good</td>\n",
       "      <td>E</td>\n",
       "      <td>VVS2</td>\n",
       "      <td>62.2</td>\n",
       "      <td>60.0</td>\n",
       "      <td>6.04</td>\n",
       "      <td>6.12</td>\n",
       "      <td>3.78</td>\n",
       "      <td>6289</td>\n",
       "    </tr>\n",
       "    <tr>\n",
       "      <th>3</th>\n",
       "      <td>0.42</td>\n",
       "      <td>Ideal</td>\n",
       "      <td>F</td>\n",
       "      <td>VS1</td>\n",
       "      <td>61.6</td>\n",
       "      <td>56.0</td>\n",
       "      <td>4.82</td>\n",
       "      <td>4.80</td>\n",
       "      <td>2.96</td>\n",
       "      <td>1082</td>\n",
       "    </tr>\n",
       "    <tr>\n",
       "      <th>4</th>\n",
       "      <td>0.31</td>\n",
       "      <td>Ideal</td>\n",
       "      <td>F</td>\n",
       "      <td>VVS1</td>\n",
       "      <td>60.4</td>\n",
       "      <td>59.0</td>\n",
       "      <td>4.35</td>\n",
       "      <td>4.43</td>\n",
       "      <td>2.65</td>\n",
       "      <td>779</td>\n",
       "    </tr>\n",
       "  </tbody>\n",
       "</table>\n",
       "</div>"
      ],
      "text/plain": [
       "   carat        cut color clarity  depth  table     x     y     z  price\n",
       "0   0.30      Ideal     E     SI1   62.1   58.0  4.27  4.29  2.66    499\n",
       "1   0.33    Premium     G      IF   60.8   58.0  4.42  4.46  2.70    984\n",
       "2   0.90  Very Good     E    VVS2   62.2   60.0  6.04  6.12  3.78   6289\n",
       "3   0.42      Ideal     F     VS1   61.6   56.0  4.82  4.80  2.96   1082\n",
       "4   0.31      Ideal     F    VVS1   60.4   59.0  4.35  4.43  2.65    779"
      ]
     },
     "execution_count": 9,
     "metadata": {},
     "output_type": "execute_result"
    }
   ],
   "source": [
    "df.head()"
   ]
  },
  {
   "cell_type": "code",
   "execution_count": 10,
   "id": "29fb6637",
   "metadata": {},
   "outputs": [
    {
     "name": "stdout",
     "output_type": "stream",
     "text": [
      "<class 'pandas.core.frame.DataFrame'>\n",
      "RangeIndex: 26967 entries, 0 to 26966\n",
      "Data columns (total 10 columns):\n",
      " #   Column   Non-Null Count  Dtype  \n",
      "---  ------   --------------  -----  \n",
      " 0   carat    26967 non-null  float64\n",
      " 1   cut      26967 non-null  object \n",
      " 2   color    26967 non-null  object \n",
      " 3   clarity  26967 non-null  object \n",
      " 4   depth    26270 non-null  float64\n",
      " 5   table    26967 non-null  float64\n",
      " 6   x        26967 non-null  float64\n",
      " 7   y        26967 non-null  float64\n",
      " 8   z        26967 non-null  float64\n",
      " 9   price    26967 non-null  int64  \n",
      "dtypes: float64(6), int64(1), object(3)\n",
      "memory usage: 2.1+ MB\n"
     ]
    }
   ],
   "source": [
    "#checking columns, datatypes, total records, and number of Non_null Values\n",
    "df.info()"
   ]
  },
  {
   "cell_type": "code",
   "execution_count": 11,
   "id": "88008ec8",
   "metadata": {},
   "outputs": [
    {
     "data": {
      "text/plain": [
       "carat        0\n",
       "cut          0\n",
       "color        0\n",
       "clarity      0\n",
       "depth      697\n",
       "table        0\n",
       "x            0\n",
       "y            0\n",
       "z            0\n",
       "price        0\n",
       "dtype: int64"
      ]
     },
     "execution_count": 11,
     "metadata": {},
     "output_type": "execute_result"
    }
   ],
   "source": [
    "df.isnull().sum()"
   ]
  },
  {
   "cell_type": "code",
   "execution_count": 12,
   "id": "fab0182c",
   "metadata": {},
   "outputs": [],
   "source": [
    "# Imputing depth missing values with its median\n",
    "df = df.fillna(df.median())"
   ]
  },
  {
   "cell_type": "code",
   "execution_count": 13,
   "id": "01beb511",
   "metadata": {},
   "outputs": [
    {
     "data": {
      "text/plain": [
       "carat      0\n",
       "cut        0\n",
       "color      0\n",
       "clarity    0\n",
       "depth      0\n",
       "table      0\n",
       "x          0\n",
       "y          0\n",
       "z          0\n",
       "price      0\n",
       "dtype: int64"
      ]
     },
     "execution_count": 13,
     "metadata": {},
     "output_type": "execute_result"
    }
   ],
   "source": [
    "df.isnull().sum()"
   ]
  },
  {
   "cell_type": "code",
   "execution_count": 14,
   "id": "8e38ff31",
   "metadata": {},
   "outputs": [
    {
     "data": {
      "text/plain": [
       "carat      float64\n",
       "cut         object\n",
       "color       object\n",
       "clarity     object\n",
       "depth      float64\n",
       "table      float64\n",
       "x          float64\n",
       "y          float64\n",
       "z          float64\n",
       "price        int64\n",
       "dtype: object"
      ]
     },
     "execution_count": 14,
     "metadata": {},
     "output_type": "execute_result"
    }
   ],
   "source": [
    "#Getting only data type of varibles\n",
    "df.dtypes"
   ]
  },
  {
   "cell_type": "code",
   "execution_count": 15,
   "id": "30e69721",
   "metadata": {},
   "outputs": [],
   "source": [
    "# Making a copy of df\n",
    "df_original=df[:]"
   ]
  },
  {
   "cell_type": "code",
   "execution_count": 16,
   "id": "7d0cdb39",
   "metadata": {},
   "outputs": [
    {
     "data": {
      "text/plain": [
       "34"
      ]
     },
     "execution_count": 16,
     "metadata": {},
     "output_type": "execute_result"
    }
   ],
   "source": [
    "#Getting the number of duplicated observations\n",
    "df.duplicated().sum()"
   ]
  },
  {
   "cell_type": "code",
   "execution_count": 17,
   "id": "42a94455",
   "metadata": {},
   "outputs": [
    {
     "name": "stdout",
     "output_type": "stream",
     "text": [
      "Before (26967, 10)\n",
      "After (26933, 10)\n"
     ]
    }
   ],
   "source": [
    "print('Before',df.shape)\n",
    "df.drop_duplicates(inplace=True) \n",
    "print('After',df.shape)"
   ]
  },
  {
   "cell_type": "code",
   "execution_count": 18,
   "id": "97c5004c",
   "metadata": {},
   "outputs": [],
   "source": [
    "#Removing all observation that don't have at least 1 non-missing value\n",
    "df.dropna(thresh=1,inplace=True) "
   ]
  },
  {
   "cell_type": "code",
   "execution_count": 19,
   "id": "fb17f9bc",
   "metadata": {},
   "outputs": [
    {
     "data": {
      "text/plain": [
       "(26933, 10)"
      ]
     },
     "execution_count": 19,
     "metadata": {},
     "output_type": "execute_result"
    }
   ],
   "source": [
    "df.shape"
   ]
  },
  {
   "cell_type": "code",
   "execution_count": 20,
   "id": "16acddfa",
   "metadata": {},
   "outputs": [
    {
     "data": {
      "text/plain": [
       "34"
      ]
     },
     "execution_count": 20,
     "metadata": {},
     "output_type": "execute_result"
    }
   ],
   "source": [
    "df_original.shape[0]-df.shape[0]"
   ]
  },
  {
   "cell_type": "code",
   "execution_count": 21,
   "id": "6391cd7a",
   "metadata": {},
   "outputs": [],
   "source": [
    "import matplotlib.pyplot as plt\n",
    "import seaborn as sns\n",
    "plt.style.use('ggplot')"
   ]
  },
  {
   "cell_type": "code",
   "execution_count": 22,
   "id": "942ef07c",
   "metadata": {},
   "outputs": [],
   "source": [
    "# Finding outliers\n",
    "def outlier_analysis(col):\n",
    "    Q1=df[col].quantile(0.25)\n",
    "    Q3=df[col].quantile(0.75)\n",
    "    IQR=Q3-Q1\n",
    "    UIF=Q3+1.5*(IQR)# UIF is upper inner fence\n",
    "    LIF=Q1-1.5*(IQR)# LIF is lower inner fence\n",
    "    df_out =df[(df[col]<LIF) | (df[col]>UIF)] # A new data set that contains only  potential outliers\n",
    "    sns.distplot(df_out[col])\n",
    "   \n",
    "    return df_out[col] .describe()"
   ]
  },
  {
   "cell_type": "markdown",
   "id": "372db1ae",
   "metadata": {},
   "source": [
    "# Univariate Analysis"
   ]
  },
  {
   "cell_type": "markdown",
   "id": "76b8f982",
   "metadata": {},
   "source": [
    "# The statistical summary of the dataset"
   ]
  },
  {
   "cell_type": "code",
   "execution_count": 23,
   "id": "52fc13b6",
   "metadata": {},
   "outputs": [
    {
     "data": {
      "text/html": [
       "<div>\n",
       "<style scoped>\n",
       "    .dataframe tbody tr th:only-of-type {\n",
       "        vertical-align: middle;\n",
       "    }\n",
       "\n",
       "    .dataframe tbody tr th {\n",
       "        vertical-align: top;\n",
       "    }\n",
       "\n",
       "    .dataframe thead th {\n",
       "        text-align: right;\n",
       "    }\n",
       "</style>\n",
       "<table border=\"1\" class=\"dataframe\">\n",
       "  <thead>\n",
       "    <tr style=\"text-align: right;\">\n",
       "      <th></th>\n",
       "      <th>carat</th>\n",
       "      <th>cut</th>\n",
       "      <th>color</th>\n",
       "      <th>clarity</th>\n",
       "      <th>depth</th>\n",
       "      <th>table</th>\n",
       "      <th>x</th>\n",
       "      <th>y</th>\n",
       "      <th>z</th>\n",
       "      <th>price</th>\n",
       "    </tr>\n",
       "  </thead>\n",
       "  <tbody>\n",
       "    <tr>\n",
       "      <th>count</th>\n",
       "      <td>26933.000000</td>\n",
       "      <td>26933</td>\n",
       "      <td>26933</td>\n",
       "      <td>26933</td>\n",
       "      <td>26933.000000</td>\n",
       "      <td>26933.000000</td>\n",
       "      <td>26933.000000</td>\n",
       "      <td>26933.000000</td>\n",
       "      <td>26933.000000</td>\n",
       "      <td>26933.000000</td>\n",
       "    </tr>\n",
       "    <tr>\n",
       "      <th>unique</th>\n",
       "      <td>NaN</td>\n",
       "      <td>5</td>\n",
       "      <td>7</td>\n",
       "      <td>8</td>\n",
       "      <td>NaN</td>\n",
       "      <td>NaN</td>\n",
       "      <td>NaN</td>\n",
       "      <td>NaN</td>\n",
       "      <td>NaN</td>\n",
       "      <td>NaN</td>\n",
       "    </tr>\n",
       "    <tr>\n",
       "      <th>top</th>\n",
       "      <td>NaN</td>\n",
       "      <td>Ideal</td>\n",
       "      <td>G</td>\n",
       "      <td>SI1</td>\n",
       "      <td>NaN</td>\n",
       "      <td>NaN</td>\n",
       "      <td>NaN</td>\n",
       "      <td>NaN</td>\n",
       "      <td>NaN</td>\n",
       "      <td>NaN</td>\n",
       "    </tr>\n",
       "    <tr>\n",
       "      <th>freq</th>\n",
       "      <td>NaN</td>\n",
       "      <td>10805</td>\n",
       "      <td>5653</td>\n",
       "      <td>6565</td>\n",
       "      <td>NaN</td>\n",
       "      <td>NaN</td>\n",
       "      <td>NaN</td>\n",
       "      <td>NaN</td>\n",
       "      <td>NaN</td>\n",
       "      <td>NaN</td>\n",
       "    </tr>\n",
       "    <tr>\n",
       "      <th>mean</th>\n",
       "      <td>0.798010</td>\n",
       "      <td>NaN</td>\n",
       "      <td>NaN</td>\n",
       "      <td>NaN</td>\n",
       "      <td>61.746701</td>\n",
       "      <td>57.455950</td>\n",
       "      <td>5.729346</td>\n",
       "      <td>5.733102</td>\n",
       "      <td>3.537769</td>\n",
       "      <td>3937.526120</td>\n",
       "    </tr>\n",
       "    <tr>\n",
       "      <th>std</th>\n",
       "      <td>0.477237</td>\n",
       "      <td>NaN</td>\n",
       "      <td>NaN</td>\n",
       "      <td>NaN</td>\n",
       "      <td>1.393875</td>\n",
       "      <td>2.232156</td>\n",
       "      <td>1.127367</td>\n",
       "      <td>1.165037</td>\n",
       "      <td>0.719964</td>\n",
       "      <td>4022.551862</td>\n",
       "    </tr>\n",
       "    <tr>\n",
       "      <th>min</th>\n",
       "      <td>0.200000</td>\n",
       "      <td>NaN</td>\n",
       "      <td>NaN</td>\n",
       "      <td>NaN</td>\n",
       "      <td>50.800000</td>\n",
       "      <td>49.000000</td>\n",
       "      <td>0.000000</td>\n",
       "      <td>0.000000</td>\n",
       "      <td>0.000000</td>\n",
       "      <td>326.000000</td>\n",
       "    </tr>\n",
       "    <tr>\n",
       "      <th>25%</th>\n",
       "      <td>0.400000</td>\n",
       "      <td>NaN</td>\n",
       "      <td>NaN</td>\n",
       "      <td>NaN</td>\n",
       "      <td>61.100000</td>\n",
       "      <td>56.000000</td>\n",
       "      <td>4.710000</td>\n",
       "      <td>4.710000</td>\n",
       "      <td>2.900000</td>\n",
       "      <td>945.000000</td>\n",
       "    </tr>\n",
       "    <tr>\n",
       "      <th>50%</th>\n",
       "      <td>0.700000</td>\n",
       "      <td>NaN</td>\n",
       "      <td>NaN</td>\n",
       "      <td>NaN</td>\n",
       "      <td>61.800000</td>\n",
       "      <td>57.000000</td>\n",
       "      <td>5.690000</td>\n",
       "      <td>5.700000</td>\n",
       "      <td>3.520000</td>\n",
       "      <td>2375.000000</td>\n",
       "    </tr>\n",
       "    <tr>\n",
       "      <th>75%</th>\n",
       "      <td>1.050000</td>\n",
       "      <td>NaN</td>\n",
       "      <td>NaN</td>\n",
       "      <td>NaN</td>\n",
       "      <td>62.500000</td>\n",
       "      <td>59.000000</td>\n",
       "      <td>6.550000</td>\n",
       "      <td>6.540000</td>\n",
       "      <td>4.040000</td>\n",
       "      <td>5356.000000</td>\n",
       "    </tr>\n",
       "    <tr>\n",
       "      <th>max</th>\n",
       "      <td>4.500000</td>\n",
       "      <td>NaN</td>\n",
       "      <td>NaN</td>\n",
       "      <td>NaN</td>\n",
       "      <td>73.600000</td>\n",
       "      <td>79.000000</td>\n",
       "      <td>10.230000</td>\n",
       "      <td>58.900000</td>\n",
       "      <td>31.800000</td>\n",
       "      <td>18818.000000</td>\n",
       "    </tr>\n",
       "  </tbody>\n",
       "</table>\n",
       "</div>"
      ],
      "text/plain": [
       "               carat    cut  color clarity         depth         table  \\\n",
       "count   26933.000000  26933  26933   26933  26933.000000  26933.000000   \n",
       "unique           NaN      5      7       8           NaN           NaN   \n",
       "top              NaN  Ideal      G     SI1           NaN           NaN   \n",
       "freq             NaN  10805   5653    6565           NaN           NaN   \n",
       "mean        0.798010    NaN    NaN     NaN     61.746701     57.455950   \n",
       "std         0.477237    NaN    NaN     NaN      1.393875      2.232156   \n",
       "min         0.200000    NaN    NaN     NaN     50.800000     49.000000   \n",
       "25%         0.400000    NaN    NaN     NaN     61.100000     56.000000   \n",
       "50%         0.700000    NaN    NaN     NaN     61.800000     57.000000   \n",
       "75%         1.050000    NaN    NaN     NaN     62.500000     59.000000   \n",
       "max         4.500000    NaN    NaN     NaN     73.600000     79.000000   \n",
       "\n",
       "                   x             y             z         price  \n",
       "count   26933.000000  26933.000000  26933.000000  26933.000000  \n",
       "unique           NaN           NaN           NaN           NaN  \n",
       "top              NaN           NaN           NaN           NaN  \n",
       "freq             NaN           NaN           NaN           NaN  \n",
       "mean        5.729346      5.733102      3.537769   3937.526120  \n",
       "std         1.127367      1.165037      0.719964   4022.551862  \n",
       "min         0.000000      0.000000      0.000000    326.000000  \n",
       "25%         4.710000      4.710000      2.900000    945.000000  \n",
       "50%         5.690000      5.700000      3.520000   2375.000000  \n",
       "75%         6.550000      6.540000      4.040000   5356.000000  \n",
       "max        10.230000     58.900000     31.800000  18818.000000  "
      ]
     },
     "execution_count": 23,
     "metadata": {},
     "output_type": "execute_result"
    }
   ],
   "source": [
    "#data descrition\n",
    "df.describe(include='all')"
   ]
  },
  {
   "cell_type": "code",
   "execution_count": 24,
   "id": "39ed2ccf",
   "metadata": {},
   "outputs": [
    {
     "data": {
      "text/html": [
       "<div>\n",
       "<style scoped>\n",
       "    .dataframe tbody tr th:only-of-type {\n",
       "        vertical-align: middle;\n",
       "    }\n",
       "\n",
       "    .dataframe tbody tr th {\n",
       "        vertical-align: top;\n",
       "    }\n",
       "\n",
       "    .dataframe thead th {\n",
       "        text-align: right;\n",
       "    }\n",
       "</style>\n",
       "<table border=\"1\" class=\"dataframe\">\n",
       "  <thead>\n",
       "    <tr style=\"text-align: right;\">\n",
       "      <th></th>\n",
       "      <th>count</th>\n",
       "      <th>unique</th>\n",
       "      <th>top</th>\n",
       "      <th>freq</th>\n",
       "    </tr>\n",
       "  </thead>\n",
       "  <tbody>\n",
       "    <tr>\n",
       "      <th>carat</th>\n",
       "      <td>26933.0</td>\n",
       "      <td>257.0</td>\n",
       "      <td>0.3</td>\n",
       "      <td>1328.0</td>\n",
       "    </tr>\n",
       "    <tr>\n",
       "      <th>cut</th>\n",
       "      <td>26933</td>\n",
       "      <td>5</td>\n",
       "      <td>Ideal</td>\n",
       "      <td>10805</td>\n",
       "    </tr>\n",
       "    <tr>\n",
       "      <th>color</th>\n",
       "      <td>26933</td>\n",
       "      <td>7</td>\n",
       "      <td>G</td>\n",
       "      <td>5653</td>\n",
       "    </tr>\n",
       "    <tr>\n",
       "      <th>clarity</th>\n",
       "      <td>26933</td>\n",
       "      <td>8</td>\n",
       "      <td>SI1</td>\n",
       "      <td>6565</td>\n",
       "    </tr>\n",
       "    <tr>\n",
       "      <th>depth</th>\n",
       "      <td>26933.0</td>\n",
       "      <td>169.0</td>\n",
       "      <td>61.8</td>\n",
       "      <td>1709.0</td>\n",
       "    </tr>\n",
       "    <tr>\n",
       "      <th>table</th>\n",
       "      <td>26933.0</td>\n",
       "      <td>112.0</td>\n",
       "      <td>56.0</td>\n",
       "      <td>4983.0</td>\n",
       "    </tr>\n",
       "    <tr>\n",
       "      <th>x</th>\n",
       "      <td>26933.0</td>\n",
       "      <td>531.0</td>\n",
       "      <td>4.38</td>\n",
       "      <td>233.0</td>\n",
       "    </tr>\n",
       "    <tr>\n",
       "      <th>y</th>\n",
       "      <td>26933.0</td>\n",
       "      <td>526.0</td>\n",
       "      <td>4.35</td>\n",
       "      <td>236.0</td>\n",
       "    </tr>\n",
       "    <tr>\n",
       "      <th>z</th>\n",
       "      <td>26933.0</td>\n",
       "      <td>356.0</td>\n",
       "      <td>2.69</td>\n",
       "      <td>393.0</td>\n",
       "    </tr>\n",
       "    <tr>\n",
       "      <th>price</th>\n",
       "      <td>26933</td>\n",
       "      <td>8742</td>\n",
       "      <td>544</td>\n",
       "      <td>74</td>\n",
       "    </tr>\n",
       "  </tbody>\n",
       "</table>\n",
       "</div>"
      ],
      "text/plain": [
       "           count unique    top    freq\n",
       "carat    26933.0  257.0    0.3  1328.0\n",
       "cut        26933      5  Ideal   10805\n",
       "color      26933      7      G    5653\n",
       "clarity    26933      8    SI1    6565\n",
       "depth    26933.0  169.0   61.8  1709.0\n",
       "table    26933.0  112.0   56.0  4983.0\n",
       "x        26933.0  531.0   4.38   233.0\n",
       "y        26933.0  526.0   4.35   236.0\n",
       "z        26933.0  356.0   2.69   393.0\n",
       "price      26933   8742    544      74"
      ]
     },
     "execution_count": 24,
     "metadata": {},
     "output_type": "execute_result"
    }
   ],
   "source": [
    "df.astype('object').describe().transpose()"
   ]
  },
  {
   "cell_type": "code",
   "execution_count": 25,
   "id": "76002300",
   "metadata": {},
   "outputs": [
    {
     "name": "stdout",
     "output_type": "stream",
     "text": [
      "Ideal        10805\n",
      "Premium       6886\n",
      "Very Good     6027\n",
      "Good          2435\n",
      "Fair           780\n",
      "Name: cut, dtype: int64\n",
      "G    5653\n",
      "E    4916\n",
      "F    4723\n",
      "H    4095\n",
      "D    3341\n",
      "I    2765\n",
      "J    1440\n",
      "Name: color, dtype: int64\n",
      "SI1     6565\n",
      "VS2     6093\n",
      "SI2     4564\n",
      "VS1     4087\n",
      "VVS2    2530\n",
      "VVS1    1839\n",
      "IF       891\n",
      "I1       364\n",
      "Name: clarity, dtype: int64\n"
     ]
    },
    {
     "data": {
      "text/plain": [
       "cut        None\n",
       "color      None\n",
       "clarity    None\n",
       "dtype: object"
      ]
     },
     "execution_count": 25,
     "metadata": {},
     "output_type": "execute_result"
    }
   ],
   "source": [
    "#Find the Frequency of each items(levels)\n",
    "#categrocial variables\n",
    "df_cat=df.select_dtypes(include='object')\n",
    "df_cat.apply(lambda x:print( x.value_counts()))"
   ]
  },
  {
   "cell_type": "markdown",
   "id": "e24fc806",
   "metadata": {},
   "source": [
    "# Target: Price"
   ]
  },
  {
   "cell_type": "code",
   "execution_count": 26,
   "id": "bcad3921",
   "metadata": {},
   "outputs": [
    {
     "data": {
      "text/plain": [
       "count    26933.000000\n",
       "mean      3937.526120\n",
       "std       4022.551862\n",
       "min        326.000000\n",
       "25%        945.000000\n",
       "50%       2375.000000\n",
       "75%       5356.000000\n",
       "max      18818.000000\n",
       "Name: price, dtype: float64"
      ]
     },
     "execution_count": 26,
     "metadata": {},
     "output_type": "execute_result"
    }
   ],
   "source": [
    "df['price'].describe()"
   ]
  },
  {
   "cell_type": "code",
   "execution_count": 27,
   "id": "3aa6c989",
   "metadata": {},
   "outputs": [
    {
     "data": {
      "text/plain": [
       "<AxesSubplot:>"
      ]
     },
     "execution_count": 27,
     "metadata": {},
     "output_type": "execute_result"
    },
    {
     "data": {
      "image/png": "[encoded data removed]",
      "text/plain": [
       "<Figure size 720x432 with 1 Axes>"
      ]
     },
     "metadata": {},
     "output_type": "display_data"
    }
   ],
   "source": [
    "df['price'].hist(grid=False,\n",
    "       figsize=(10, 6),\n",
    "       bins=30)\n"
   ]
  },
  {
   "cell_type": "code",
   "execution_count": 28,
   "id": "1476ef0f",
   "metadata": {},
   "outputs": [
    {
     "data": {
      "text/plain": [
       "<AxesSubplot:xlabel='price'>"
      ]
     },
     "execution_count": 28,
     "metadata": {},
     "output_type": "execute_result"
    },
    {
     "data": {
      "image/png": "[encoded data removed]",
      "text/plain": [
       "<Figure size 432x288 with 1 Axes>"
      ]
     },
     "metadata": {},
     "output_type": "display_data"
    }
   ],
   "source": [
    "sns.boxplot(df.price)"
   ]
  },
  {
   "cell_type": "code",
   "execution_count": 29,
   "id": "b10a1ed4",
   "metadata": {},
   "outputs": [
    {
     "data": {
      "text/plain": [
       "count     1778.000000\n",
       "mean     15027.742970\n",
       "std       1962.816586\n",
       "min      11975.000000\n",
       "25%      13250.750000\n",
       "50%      14874.500000\n",
       "75%      16703.750000\n",
       "max      18818.000000\n",
       "Name: price, dtype: float64"
      ]
     },
     "execution_count": 29,
     "metadata": {},
     "output_type": "execute_result"
    },
    {
     "data": {
      "image/png": "[encoded data removed]",
      "text/plain": [
       "<Figure size 432x288 with 1 Axes>"
      ]
     },
     "metadata": {},
     "output_type": "display_data"
    }
   ],
   "source": [
    "#Price outliers\n",
    "outlier_analysis('price')"
   ]
  },
  {
   "cell_type": "markdown",
   "id": "25478b9a",
   "metadata": {},
   "source": [
    "# Carat"
   ]
  },
  {
   "cell_type": "code",
   "execution_count": 30,
   "id": "ee3e908b",
   "metadata": {},
   "outputs": [
    {
     "data": {
      "text/plain": [
       "count    26933.000000\n",
       "mean         0.798010\n",
       "std          0.477237\n",
       "min          0.200000\n",
       "25%          0.400000\n",
       "50%          0.700000\n",
       "75%          1.050000\n",
       "max          4.500000\n",
       "Name: carat, dtype: float64"
      ]
     },
     "execution_count": 30,
     "metadata": {},
     "output_type": "execute_result"
    }
   ],
   "source": [
    "df['carat'].describe()"
   ]
  },
  {
   "cell_type": "code",
   "execution_count": 31,
   "id": "5a64a6ab",
   "metadata": {},
   "outputs": [
    {
     "data": {
      "image/png": "[encoded data removed]",
      "text/plain": [
       "<Figure size 1440x360 with 1 Axes>"
      ]
     },
     "metadata": {},
     "output_type": "display_data"
    }
   ],
   "source": [
    "plt.rcParams['figure.figsize']=20,5\n",
    "plt.subplot(132)\n",
    "sns.distplot(df['carat'], color='blue')\n",
    "plt.suptitle('Distribution of carat')\n",
    "plt.show()"
   ]
  },
  {
   "cell_type": "code",
   "execution_count": 32,
   "id": "59ed5167",
   "metadata": {},
   "outputs": [
    {
     "data": {
      "text/plain": [
       "<AxesSubplot:xlabel='carat'>"
      ]
     },
     "execution_count": 32,
     "metadata": {},
     "output_type": "execute_result"
    },
    {
     "data": {
      "image/png": "[encoded data removed]",
      "text/plain": [
       "<Figure size 1440x360 with 1 Axes>"
      ]
     },
     "metadata": {},
     "output_type": "display_data"
    }
   ],
   "source": [
    "sns.boxplot(df.carat)"
   ]
  },
  {
   "cell_type": "code",
   "execution_count": 33,
   "id": "ee344dee",
   "metadata": {},
   "outputs": [
    {
     "data": {
      "text/plain": [
       "count    657.000000\n",
       "mean       2.218189\n",
       "std        0.263901\n",
       "min        2.030000\n",
       "25%        2.060000\n",
       "50%        2.140000\n",
       "75%        2.280000\n",
       "max        4.500000\n",
       "Name: carat, dtype: float64"
      ]
     },
     "execution_count": 33,
     "metadata": {},
     "output_type": "execute_result"
    },
    {
     "data": {
      "image/png": "[encoded data removed]",
      "text/plain": [
       "<Figure size 1440x360 with 1 Axes>"
      ]
     },
     "metadata": {},
     "output_type": "display_data"
    }
   ],
   "source": [
    "#Carat outliers\n",
    "outlier_analysis('carat')"
   ]
  },
  {
   "cell_type": "markdown",
   "id": "35a8ddb8",
   "metadata": {},
   "source": [
    "# Cut"
   ]
  },
  {
   "cell_type": "code",
   "execution_count": 34,
   "id": "759166ef",
   "metadata": {},
   "outputs": [
    {
     "data": {
      "text/plain": [
       "Ideal        10805\n",
       "Premium       6886\n",
       "Very Good     6027\n",
       "Good          2435\n",
       "Fair           780\n",
       "Name: cut, dtype: int64"
      ]
     },
     "execution_count": 34,
     "metadata": {},
     "output_type": "execute_result"
    }
   ],
   "source": [
    "df['cut'].value_counts()"
   ]
  },
  {
   "cell_type": "code",
   "execution_count": 35,
   "id": "f1e16a82",
   "metadata": {},
   "outputs": [
    {
     "data": {
      "text/plain": [
       "([<matplotlib.patches.Wedge at 0x1b4593595e0>,\n",
       "  <matplotlib.patches.Wedge at 0x1b459369040>,\n",
       "  <matplotlib.patches.Wedge at 0x1b459369a60>,\n",
       "  <matplotlib.patches.Wedge at 0x1b459376430>,\n",
       "  <matplotlib.patches.Wedge at 0x1b459376dc0>],\n",
       " [Text(-1.095025647098324, 0.3513101652342228, 'Ideal'),\n",
       "  Text(0.20850352181477555, -1.130940441133323, 'Premium'),\n",
       "  Text(1.142036414301068, 0.13510302887189451, 'Very Good'),\n",
       "  Text(0.5167095142293274, 1.0273807852519399, 'Good'),\n",
       "  Text(0.11811472570066442, 1.294623077027695, 'Fair')],\n",
       " [Text(-0.61892753966427, 0.19856661513238677, '40.12%'),\n",
       "  Text(0.1178498166779166, -0.6392272058579652, '25.57%'),\n",
       "  Text(0.6454988428658209, 0.07636258153628821, '22.38%'),\n",
       "  Text(0.2920532036948372, 0.5806934873163138, '9.04%'),\n",
       "  Text(0.07268598504656272, 0.7966911243247353, '2.90%')])"
      ]
     },
     "execution_count": 35,
     "metadata": {},
     "output_type": "execute_result"
    },
    {
     "data": {
      "image/png": "[encoded data removed]",
      "text/plain": [
       "<Figure size 1656x360 with 1 Axes>"
      ]
     },
     "metadata": {},
     "output_type": "display_data"
    }
   ],
   "source": [
    "plt.rcParams['figure.figsize']=23,5\n",
    "plt.subplot(131)\n",
    "plt.pie(df['cut'].value_counts().values,\n",
    "        labels=df['cut'].value_counts().index,\n",
    "        startangle=90,\n",
    "        colors=['gold', 'lightgreen', 'red', 'lightblue', 'pink'],\n",
    "        explode=[0.05,0.05,0.05,0.05,0.2],\n",
    "        shadow=True, autopct='%1.2f%%')"
   ]
  },
  {
   "cell_type": "code",
   "execution_count": 36,
   "id": "1af38d48",
   "metadata": {},
   "outputs": [
    {
     "data": {
      "text/plain": [
       "Text(0.5, 1, 'Cut Counts')"
      ]
     },
     "execution_count": 36,
     "metadata": {},
     "output_type": "execute_result"
    },
    {
     "data": {
      "image/png": "[encoded data removed]",
      "text/plain": [
       "<Figure size 1656x360 with 1 Axes>"
      ]
     },
     "metadata": {},
     "output_type": "display_data"
    }
   ],
   "source": [
    "sns.countplot(df['cut'])\n",
    "plt.title(\"Cut Counts\", y=1, fontdict={\"fontsize\": 20})"
   ]
  },
  {
   "cell_type": "markdown",
   "id": "fdc310d9",
   "metadata": {},
   "source": [
    "# Color"
   ]
  },
  {
   "cell_type": "code",
   "execution_count": 37,
   "id": "ab672eb1",
   "metadata": {},
   "outputs": [
    {
     "data": {
      "text/plain": [
       "G    5653\n",
       "E    4916\n",
       "F    4723\n",
       "H    4095\n",
       "D    3341\n",
       "I    2765\n",
       "J    1440\n",
       "Name: color, dtype: int64"
      ]
     },
     "execution_count": 37,
     "metadata": {},
     "output_type": "execute_result"
    }
   ],
   "source": [
    "df['color'].value_counts()"
   ]
  },
  {
   "cell_type": "code",
   "execution_count": 38,
   "id": "6c250e4f",
   "metadata": {},
   "outputs": [
    {
     "data": {
      "text/plain": [
       "<AxesSubplot:xlabel='color', ylabel='count'>"
      ]
     },
     "execution_count": 38,
     "metadata": {},
     "output_type": "execute_result"
    },
    {
     "data": {
      "image/png": "[encoded data removed]",
      "text/plain": [
       "<Figure size 1656x360 with 1 Axes>"
      ]
     },
     "metadata": {},
     "output_type": "display_data"
    }
   ],
   "source": [
    "plt.rcParams['figure.figsize']=23,5\n",
    "plt.subplot(132)\n",
    "sns.countplot(df['color'], palette='ocean', order=df['color'].value_counts().index)"
   ]
  },
  {
   "cell_type": "markdown",
   "id": "96bf448f",
   "metadata": {},
   "source": [
    "# Clarity"
   ]
  },
  {
   "cell_type": "code",
   "execution_count": 39,
   "id": "91639f77",
   "metadata": {},
   "outputs": [
    {
     "data": {
      "text/plain": [
       "SI1     6565\n",
       "VS2     6093\n",
       "SI2     4564\n",
       "VS1     4087\n",
       "VVS2    2530\n",
       "VVS1    1839\n",
       "IF       891\n",
       "I1       364\n",
       "Name: clarity, dtype: int64"
      ]
     },
     "execution_count": 39,
     "metadata": {},
     "output_type": "execute_result"
    }
   ],
   "source": [
    "df['clarity'].value_counts()"
   ]
  },
  {
   "cell_type": "code",
   "execution_count": 40,
   "id": "a6ad4194",
   "metadata": {},
   "outputs": [
    {
     "data": {
      "text/plain": [
       "Text(0, 0.5, 'count')"
      ]
     },
     "execution_count": 40,
     "metadata": {},
     "output_type": "execute_result"
    },
    {
     "data": {
      "image/png": "[encoded data removed]",
      "text/plain": [
       "<Figure size 1656x360 with 1 Axes>"
      ]
     },
     "metadata": {},
     "output_type": "display_data"
    }
   ],
   "source": [
    "plt.rcParams['figure.figsize']=23,5\n",
    "plt.subplot(133)\n",
    "df[\"clarity\"].value_counts().plot.bar()\n",
    "plt.xlabel('Clarity types')\n",
    "plt.ylabel('count')"
   ]
  },
  {
   "cell_type": "markdown",
   "id": "75e0b0a7",
   "metadata": {},
   "source": [
    "# Depth"
   ]
  },
  {
   "cell_type": "code",
   "execution_count": 41,
   "id": "a9485bc2",
   "metadata": {},
   "outputs": [
    {
     "data": {
      "text/plain": [
       "count    26933.000000\n",
       "mean        61.746701\n",
       "std          1.393875\n",
       "min         50.800000\n",
       "25%         61.100000\n",
       "50%         61.800000\n",
       "75%         62.500000\n",
       "max         73.600000\n",
       "Name: depth, dtype: float64"
      ]
     },
     "execution_count": 41,
     "metadata": {},
     "output_type": "execute_result"
    }
   ],
   "source": [
    "df['depth'].describe()"
   ]
  },
  {
   "cell_type": "code",
   "execution_count": 42,
   "id": "bca26d1c",
   "metadata": {},
   "outputs": [
    {
     "data": {
      "image/png": "[encoded data removed]",
      "text/plain": [
       "<Figure size 1440x360 with 1 Axes>"
      ]
     },
     "metadata": {},
     "output_type": "display_data"
    }
   ],
   "source": [
    "plt.rcParams['figure.figsize']=20,5\n",
    "plt.subplot(131)\n",
    "sns.distplot(df['depth'], color='orange')\n",
    "plt.suptitle('Distribution of depth')\n",
    "plt.show()"
   ]
  },
  {
   "cell_type": "code",
   "execution_count": 43,
   "id": "ed4d109b",
   "metadata": {},
   "outputs": [
    {
     "data": {
      "text/plain": [
       "<AxesSubplot:xlabel='depth'>"
      ]
     },
     "execution_count": 43,
     "metadata": {},
     "output_type": "execute_result"
    },
    {
     "data": {
      "image/png": "[encoded data removed]",
      "text/plain": [
       "<Figure size 1440x360 with 1 Axes>"
      ]
     },
     "metadata": {},
     "output_type": "display_data"
    }
   ],
   "source": [
    "sns.boxplot(df.depth)"
   ]
  },
  {
   "cell_type": "code",
   "execution_count": 44,
   "id": "14b1bc70",
   "metadata": {},
   "outputs": [
    {
     "data": {
      "text/plain": [
       "count    1413.000000\n",
       "mean       60.973319\n",
       "std         3.988255\n",
       "min        50.800000\n",
       "25%        58.200000\n",
       "50%        58.700000\n",
       "75%        65.200000\n",
       "max        73.600000\n",
       "Name: depth, dtype: float64"
      ]
     },
     "execution_count": 44,
     "metadata": {},
     "output_type": "execute_result"
    },
    {
     "data": {
      "image/png": "[encoded data removed]",
      "text/plain": [
       "<Figure size 1440x360 with 1 Axes>"
      ]
     },
     "metadata": {},
     "output_type": "display_data"
    }
   ],
   "source": [
    "#Depth outliers\n",
    "outlier_analysis('depth')"
   ]
  },
  {
   "cell_type": "markdown",
   "id": "58e65ed3",
   "metadata": {},
   "source": [
    "# Table"
   ]
  },
  {
   "cell_type": "code",
   "execution_count": 45,
   "id": "463746eb",
   "metadata": {
    "scrolled": true
   },
   "outputs": [
    {
     "data": {
      "text/plain": [
       "count    26933.000000\n",
       "mean        57.455950\n",
       "std          2.232156\n",
       "min         49.000000\n",
       "25%         56.000000\n",
       "50%         57.000000\n",
       "75%         59.000000\n",
       "max         79.000000\n",
       "Name: table, dtype: float64"
      ]
     },
     "execution_count": 45,
     "metadata": {},
     "output_type": "execute_result"
    }
   ],
   "source": [
    "df['table'].describe()"
   ]
  },
  {
   "cell_type": "code",
   "execution_count": 46,
   "id": "1be9585f",
   "metadata": {},
   "outputs": [
    {
     "data": {
      "image/png": "[encoded data removed]",
      "text/plain": [
       "<Figure size 1440x360 with 1 Axes>"
      ]
     },
     "metadata": {},
     "output_type": "display_data"
    }
   ],
   "source": [
    "plt.rcParams['figure.figsize']=20,5\n",
    "plt.subplot(131)\n",
    "sns.distplot(df['table'], color='blue')\n",
    "plt.suptitle('Distribution of table')\n",
    "plt.show()"
   ]
  },
  {
   "cell_type": "code",
   "execution_count": 47,
   "id": "e7045871",
   "metadata": {},
   "outputs": [
    {
     "data": {
      "text/plain": [
       "<AxesSubplot:xlabel='table'>"
      ]
     },
     "execution_count": 47,
     "metadata": {},
     "output_type": "execute_result"
    },
    {
     "data": {
      "image/png": "[encoded data removed]",
      "text/plain": [
       "<Figure size 1440x360 with 1 Axes>"
      ]
     },
     "metadata": {},
     "output_type": "display_data"
    }
   ],
   "source": [
    "sns.boxplot(df.table)"
   ]
  },
  {
   "cell_type": "code",
   "execution_count": 48,
   "id": "01ca69ea",
   "metadata": {},
   "outputs": [
    {
     "data": {
      "text/plain": [
       "count    318.000000\n",
       "mean      64.926415\n",
       "std        2.929464\n",
       "min       49.000000\n",
       "25%       64.000000\n",
       "50%       65.000000\n",
       "75%       66.000000\n",
       "max       79.000000\n",
       "Name: table, dtype: float64"
      ]
     },
     "execution_count": 48,
     "metadata": {},
     "output_type": "execute_result"
    },
    {
     "data": {
      "image/png": "[encoded data removed]",
      "text/plain": [
       "<Figure size 1440x360 with 1 Axes>"
      ]
     },
     "metadata": {},
     "output_type": "display_data"
    }
   ],
   "source": [
    "#Depth outliers\n",
    "outlier_analysis('table')"
   ]
  },
  {
   "cell_type": "markdown",
   "id": "74c8f2b0",
   "metadata": {},
   "source": [
    "# X"
   ]
  },
  {
   "cell_type": "code",
   "execution_count": 49,
   "id": "76f1a834",
   "metadata": {},
   "outputs": [
    {
     "data": {
      "text/plain": [
       "count    26933.000000\n",
       "mean         5.729346\n",
       "std          1.127367\n",
       "min          0.000000\n",
       "25%          4.710000\n",
       "50%          5.690000\n",
       "75%          6.550000\n",
       "max         10.230000\n",
       "Name: x, dtype: float64"
      ]
     },
     "execution_count": 49,
     "metadata": {},
     "output_type": "execute_result"
    }
   ],
   "source": [
    "df['x'].describe()"
   ]
  },
  {
   "cell_type": "code",
   "execution_count": 50,
   "id": "15b5d059",
   "metadata": {},
   "outputs": [
    {
     "data": {
      "image/png": "[encoded data removed]",
      "text/plain": [
       "<Figure size 1440x360 with 1 Axes>"
      ]
     },
     "metadata": {},
     "output_type": "display_data"
    }
   ],
   "source": [
    "plt.rcParams['figure.figsize']=20,5\n",
    "plt.subplot(131)\n",
    "sns.distplot(df['x'], color='orange')\n",
    "plt.suptitle('Distribution of x')\n",
    "plt.show()"
   ]
  },
  {
   "cell_type": "code",
   "execution_count": 51,
   "id": "2f26204c",
   "metadata": {},
   "outputs": [
    {
     "data": {
      "text/plain": [
       "<AxesSubplot:xlabel='x'>"
      ]
     },
     "execution_count": 51,
     "metadata": {},
     "output_type": "execute_result"
    },
    {
     "data": {
      "image/png": "[encoded data removed]",
      "text/plain": [
       "<Figure size 1440x360 with 1 Axes>"
      ]
     },
     "metadata": {},
     "output_type": "display_data"
    }
   ],
   "source": [
    "sns.boxplot(df.x)"
   ]
  },
  {
   "cell_type": "code",
   "execution_count": 52,
   "id": "778cd270",
   "metadata": {},
   "outputs": [
    {
     "data": {
      "text/plain": [
       "count    14.000000\n",
       "mean      8.302857\n",
       "std       3.530172\n",
       "min       0.000000\n",
       "25%       9.390000\n",
       "50%       9.475000\n",
       "75%       9.922500\n",
       "max      10.230000\n",
       "Name: x, dtype: float64"
      ]
     },
     "execution_count": 52,
     "metadata": {},
     "output_type": "execute_result"
    },
    {
     "data": {
      "image/png": "[encoded data removed]",
      "text/plain": [
       "<Figure size 1440x360 with 1 Axes>"
      ]
     },
     "metadata": {},
     "output_type": "display_data"
    }
   ],
   "source": [
    "outlier_analysis('x')"
   ]
  },
  {
   "cell_type": "markdown",
   "id": "084a0f0f",
   "metadata": {},
   "source": [
    "# Y"
   ]
  },
  {
   "cell_type": "code",
   "execution_count": 53,
   "id": "57a0ddf4",
   "metadata": {},
   "outputs": [
    {
     "data": {
      "text/plain": [
       "count    26933.000000\n",
       "mean         5.733102\n",
       "std          1.165037\n",
       "min          0.000000\n",
       "25%          4.710000\n",
       "50%          5.700000\n",
       "75%          6.540000\n",
       "max         58.900000\n",
       "Name: y, dtype: float64"
      ]
     },
     "execution_count": 53,
     "metadata": {},
     "output_type": "execute_result"
    }
   ],
   "source": [
    "df['y'].describe()"
   ]
  },
  {
   "cell_type": "code",
   "execution_count": 54,
   "id": "ba856ab7",
   "metadata": {},
   "outputs": [
    {
     "data": {
      "image/png": "[encoded data removed]",
      "text/plain": [
       "<Figure size 1440x360 with 1 Axes>"
      ]
     },
     "metadata": {},
     "output_type": "display_data"
    }
   ],
   "source": [
    "plt.rcParams['figure.figsize']=20,5\n",
    "plt.subplot(131)\n",
    "sns.distplot(df['y'], color='red')\n",
    "plt.suptitle('Distribution of y')\n",
    "plt.show()"
   ]
  },
  {
   "cell_type": "code",
   "execution_count": 55,
   "id": "7ebddc04",
   "metadata": {},
   "outputs": [
    {
     "data": {
      "text/plain": [
       "<AxesSubplot:xlabel='y'>"
      ]
     },
     "execution_count": 55,
     "metadata": {},
     "output_type": "execute_result"
    },
    {
     "data": {
      "image/png": "[encoded data removed]",
      "text/plain": [
       "<Figure size 1440x360 with 1 Axes>"
      ]
     },
     "metadata": {},
     "output_type": "display_data"
    }
   ],
   "source": [
    "sns.boxplot(df.y)"
   ]
  },
  {
   "cell_type": "code",
   "execution_count": 56,
   "id": "18a59005",
   "metadata": {},
   "outputs": [
    {
     "data": {
      "text/plain": [
       "count    14.000000\n",
       "mean     11.791429\n",
       "std      14.001836\n",
       "min       0.000000\n",
       "25%       9.317500\n",
       "50%       9.525000\n",
       "75%       9.940000\n",
       "max      58.900000\n",
       "Name: y, dtype: float64"
      ]
     },
     "execution_count": 56,
     "metadata": {},
     "output_type": "execute_result"
    },
    {
     "data": {
      "image/png": "[encoded data removed]",
      "text/plain": [
       "<Figure size 1440x360 with 1 Axes>"
      ]
     },
     "metadata": {},
     "output_type": "display_data"
    }
   ],
   "source": [
    "outlier_analysis('y')"
   ]
  },
  {
   "cell_type": "markdown",
   "id": "f6ed0355",
   "metadata": {},
   "source": [
    "# Z"
   ]
  },
  {
   "cell_type": "code",
   "execution_count": 57,
   "id": "b1f7ca36",
   "metadata": {},
   "outputs": [
    {
     "data": {
      "text/plain": [
       "count    26933.000000\n",
       "mean         3.537769\n",
       "std          0.719964\n",
       "min          0.000000\n",
       "25%          2.900000\n",
       "50%          3.520000\n",
       "75%          4.040000\n",
       "max         31.800000\n",
       "Name: z, dtype: float64"
      ]
     },
     "execution_count": 57,
     "metadata": {},
     "output_type": "execute_result"
    }
   ],
   "source": [
    "df['z'].describe()"
   ]
  },
  {
   "cell_type": "code",
   "execution_count": 58,
   "id": "dd1ec2db",
   "metadata": {},
   "outputs": [
    {
     "data": {
      "image/png": "[encoded data removed]",
      "text/plain": [
       "<Figure size 1440x360 with 1 Axes>"
      ]
     },
     "metadata": {},
     "output_type": "display_data"
    }
   ],
   "source": [
    "plt.rcParams['figure.figsize']=20,5\n",
    "plt.subplot(131)\n",
    "sns.distplot(df['z'], color='green')\n",
    "plt.suptitle('Distribution of y')\n",
    "plt.show()"
   ]
  },
  {
   "cell_type": "code",
   "execution_count": 59,
   "id": "9bada5ea",
   "metadata": {},
   "outputs": [
    {
     "data": {
      "text/plain": [
       "<AxesSubplot:xlabel='z'>"
      ]
     },
     "execution_count": 59,
     "metadata": {},
     "output_type": "execute_result"
    },
    {
     "data": {
      "image/png": "[encoded data removed]",
      "text/plain": [
       "<Figure size 1440x360 with 1 Axes>"
      ]
     },
     "metadata": {},
     "output_type": "display_data"
    }
   ],
   "source": [
    "sns.boxplot(df.z)"
   ]
  },
  {
   "cell_type": "code",
   "execution_count": 60,
   "id": "425d0d7d",
   "metadata": {},
   "outputs": [
    {
     "data": {
      "text/plain": [
       "count    22.000000\n",
       "mean      4.914545\n",
       "std       6.751151\n",
       "min       0.000000\n",
       "25%       0.000000\n",
       "50%       5.875000\n",
       "75%       6.222500\n",
       "max      31.800000\n",
       "Name: z, dtype: float64"
      ]
     },
     "execution_count": 60,
     "metadata": {},
     "output_type": "execute_result"
    },
    {
     "data": {
      "image/png": "[encoded data removed]",
      "text/plain": [
       "<Figure size 1440x360 with 1 Axes>"
      ]
     },
     "metadata": {},
     "output_type": "display_data"
    }
   ],
   "source": [
    "outlier_analysis('z')"
   ]
  },
  {
   "cell_type": "code",
   "execution_count": 61,
   "id": "967b9bd8",
   "metadata": {},
   "outputs": [],
   "source": [
    "# Replacing values bigger than upper outer fence with upper outer fence and values less than lower outer fence with\n",
    "#lower outer fence\n",
    "#lower outer fence: Q1 - 3*IQR\n",
    "#upper outer fence: Q3 + 3*IQR\n",
    "def fixing_outliers(col):#col is name of column that you want to fix its outliers\n",
    "    i=0 # i is number of outliers that they are less than lower outer fence\n",
    "    j=0 # j is  number of outliers that they are bigger than upper outer fence\n",
    "    Q1=df[col].quantile(0.25)\n",
    "    Q3=df[col].quantile(0.75)\n",
    "    IQR=Q3-Q1\n",
    "    UOF=Q3+3*(IQR)#UOF=upper outer fence\n",
    "    LOF=Q1-3*(IQR)#LOF=lower outer fence\n",
    "    Clean_col=[] # Create a list to assign value\n",
    "    for val in df[col]:#val is value of that column . here we select values of that column one by one and execute the loop\n",
    "        if val<LOF:   \n",
    "            Clean_col.append(LOF)# if value is less than LOF we will repalce that with LOF\n",
    "            i+=1\n",
    "        elif val>UOF :  # if value is bigger than UOF we will repalce that with UOF \n",
    "            Clean_col.append(UOF)\n",
    "            j+=1\n",
    "        else : Clean_col.append(val)\n",
    "    df[col]=Clean_col # update the column by assigning Clean_col\n",
    "    sns.distplot(df[col])#Plotting univariate distributions\n",
    "    print('Number of outliers that they are less than lower outer fence: ',i,'\\nNumber of outliers that they are bigger than upper outer fence: ',j)\n",
    "    return df[col] .describe()"
   ]
  },
  {
   "cell_type": "code",
   "execution_count": 62,
   "id": "5d4fc9b7",
   "metadata": {},
   "outputs": [
    {
     "name": "stdout",
     "output_type": "stream",
     "text": [
      "Number of outliers that they are less than lower outer fence:  0 \n",
      "Number of outliers that they are bigger than upper outer fence:  17\n"
     ]
    },
    {
     "data": {
      "text/plain": [
       "count    26933.000000\n",
       "mean         0.797776\n",
       "std          0.475918\n",
       "min          0.200000\n",
       "25%          0.400000\n",
       "50%          0.700000\n",
       "75%          1.050000\n",
       "max          3.000000\n",
       "Name: carat, dtype: float64"
      ]
     },
     "execution_count": 62,
     "metadata": {},
     "output_type": "execute_result"
    },
    {
     "data": {
      "image/png": "[encoded data removed]",
      "text/plain": [
       "<Figure size 1440x360 with 1 Axes>"
      ]
     },
     "metadata": {},
     "output_type": "display_data"
    }
   ],
   "source": [
    "fixing_outliers('carat')"
   ]
  },
  {
   "cell_type": "code",
   "execution_count": 63,
   "id": "2ab1a1c1",
   "metadata": {},
   "outputs": [
    {
     "name": "stdout",
     "output_type": "stream",
     "text": [
      "Number of outliers that they are less than lower outer fence:  83 \n",
      "Number of outliers that they are bigger than upper outer fence:  118\n"
     ]
    },
    {
     "data": {
      "text/plain": [
       "count    26933.000000\n",
       "mean        61.744057\n",
       "std          1.352597\n",
       "min         56.900000\n",
       "25%         61.100000\n",
       "50%         61.800000\n",
       "75%         62.500000\n",
       "max         66.700000\n",
       "Name: depth, dtype: float64"
      ]
     },
     "execution_count": 63,
     "metadata": {},
     "output_type": "execute_result"
    },
    {
     "data": {
      "image/png": "[encoded data removed]",
      "text/plain": [
       "<Figure size 1440x360 with 1 Axes>"
      ]
     },
     "metadata": {},
     "output_type": "display_data"
    }
   ],
   "source": [
    "fixing_outliers('depth')"
   ]
  },
  {
   "cell_type": "code",
   "execution_count": 64,
   "id": "b8d12182",
   "metadata": {},
   "outputs": [
    {
     "name": "stdout",
     "output_type": "stream",
     "text": [
      "Number of outliers that they are less than lower outer fence:  0 \n",
      "Number of outliers that they are bigger than upper outer fence:  15\n"
     ]
    },
    {
     "data": {
      "text/plain": [
       "count    26933.000000\n",
       "mean        57.454576\n",
       "std          2.223880\n",
       "min         49.000000\n",
       "25%         56.000000\n",
       "50%         57.000000\n",
       "75%         59.000000\n",
       "max         68.000000\n",
       "Name: table, dtype: float64"
      ]
     },
     "execution_count": 64,
     "metadata": {},
     "output_type": "execute_result"
    },
    {
     "data": {
      "image/png": "[encoded data removed]",
      "text/plain": [
       "<Figure size 1440x360 with 1 Axes>"
      ]
     },
     "metadata": {},
     "output_type": "display_data"
    }
   ],
   "source": [
    "fixing_outliers('table')"
   ]
  },
  {
   "cell_type": "code",
   "execution_count": 65,
   "id": "1f0d2243",
   "metadata": {},
   "outputs": [
    {
     "name": "stdout",
     "output_type": "stream",
     "text": [
      "Number of outliers that they are less than lower outer fence:  0 \n",
      "Number of outliers that they are bigger than upper outer fence:  0\n"
     ]
    },
    {
     "data": {
      "text/plain": [
       "count    26933.000000\n",
       "mean         5.729346\n",
       "std          1.127367\n",
       "min          0.000000\n",
       "25%          4.710000\n",
       "50%          5.690000\n",
       "75%          6.550000\n",
       "max         10.230000\n",
       "Name: x, dtype: float64"
      ]
     },
     "execution_count": 65,
     "metadata": {},
     "output_type": "execute_result"
    },
    {
     "data": {
      "image/png": "[encoded data removed]",
      "text/plain": [
       "<Figure size 1440x360 with 1 Axes>"
      ]
     },
     "metadata": {},
     "output_type": "display_data"
    }
   ],
   "source": [
    "fixing_outliers('x')"
   ]
  },
  {
   "cell_type": "code",
   "execution_count": 66,
   "id": "533eef36",
   "metadata": {},
   "outputs": [
    {
     "name": "stdout",
     "output_type": "stream",
     "text": [
      "Number of outliers that they are less than lower outer fence:  0 \n",
      "Number of outliers that they are bigger than upper outer fence:  1\n"
     ]
    },
    {
     "data": {
      "text/plain": [
       "count    26933.000000\n",
       "mean         5.731362\n",
       "std          1.119743\n",
       "min          0.000000\n",
       "25%          4.710000\n",
       "50%          5.700000\n",
       "75%          6.540000\n",
       "max         12.030000\n",
       "Name: y, dtype: float64"
      ]
     },
     "execution_count": 66,
     "metadata": {},
     "output_type": "execute_result"
    },
    {
     "data": {
      "image/png": "[encoded data removed]",
      "text/plain": [
       "<Figure size 1440x360 with 1 Axes>"
      ]
     },
     "metadata": {},
     "output_type": "display_data"
    }
   ],
   "source": [
    "fixing_outliers('y')"
   ]
  },
  {
   "cell_type": "code",
   "execution_count": 67,
   "id": "1ae21056",
   "metadata": {},
   "outputs": [
    {
     "name": "stdout",
     "output_type": "stream",
     "text": [
      "Number of outliers that they are less than lower outer fence:  0 \n",
      "Number of outliers that they are bigger than upper outer fence:  2\n"
     ]
    },
    {
     "data": {
      "text/plain": [
       "count    26933.000000\n",
       "mean         3.536843\n",
       "std          0.699337\n",
       "min          0.000000\n",
       "25%          2.900000\n",
       "50%          3.520000\n",
       "75%          4.040000\n",
       "max          7.460000\n",
       "Name: z, dtype: float64"
      ]
     },
     "execution_count": 67,
     "metadata": {},
     "output_type": "execute_result"
    },
    {
     "data": {
      "image/png": "[encoded data removed]",
      "text/plain": [
       "<Figure size 1440x360 with 1 Axes>"
      ]
     },
     "metadata": {},
     "output_type": "display_data"
    }
   ],
   "source": [
    "fixing_outliers('z')"
   ]
  },
  {
   "cell_type": "code",
   "execution_count": 68,
   "id": "2c83d29e",
   "metadata": {},
   "outputs": [
    {
     "data": {
      "text/plain": [
       "(26933, 10)"
      ]
     },
     "execution_count": 68,
     "metadata": {},
     "output_type": "execute_result"
    }
   ],
   "source": [
    "df.shape"
   ]
  },
  {
   "cell_type": "code",
   "execution_count": 69,
   "id": "71c949e9",
   "metadata": {},
   "outputs": [
    {
     "data": {
      "text/html": [
       "<div>\n",
       "<style scoped>\n",
       "    .dataframe tbody tr th:only-of-type {\n",
       "        vertical-align: middle;\n",
       "    }\n",
       "\n",
       "    .dataframe tbody tr th {\n",
       "        vertical-align: top;\n",
       "    }\n",
       "\n",
       "    .dataframe thead th {\n",
       "        text-align: right;\n",
       "    }\n",
       "</style>\n",
       "<table border=\"1\" class=\"dataframe\">\n",
       "  <thead>\n",
       "    <tr style=\"text-align: right;\">\n",
       "      <th></th>\n",
       "      <th>carat</th>\n",
       "      <th>cut</th>\n",
       "      <th>color</th>\n",
       "      <th>clarity</th>\n",
       "      <th>depth</th>\n",
       "      <th>table</th>\n",
       "      <th>x</th>\n",
       "      <th>y</th>\n",
       "      <th>z</th>\n",
       "      <th>price</th>\n",
       "    </tr>\n",
       "  </thead>\n",
       "  <tbody>\n",
       "    <tr>\n",
       "      <th>0</th>\n",
       "      <td>0.30</td>\n",
       "      <td>Ideal</td>\n",
       "      <td>E</td>\n",
       "      <td>SI1</td>\n",
       "      <td>62.1</td>\n",
       "      <td>58.0</td>\n",
       "      <td>4.27</td>\n",
       "      <td>4.29</td>\n",
       "      <td>2.66</td>\n",
       "      <td>499</td>\n",
       "    </tr>\n",
       "    <tr>\n",
       "      <th>1</th>\n",
       "      <td>0.33</td>\n",
       "      <td>Premium</td>\n",
       "      <td>G</td>\n",
       "      <td>IF</td>\n",
       "      <td>60.8</td>\n",
       "      <td>58.0</td>\n",
       "      <td>4.42</td>\n",
       "      <td>4.46</td>\n",
       "      <td>2.70</td>\n",
       "      <td>984</td>\n",
       "    </tr>\n",
       "    <tr>\n",
       "      <th>2</th>\n",
       "      <td>0.90</td>\n",
       "      <td>Very Good</td>\n",
       "      <td>E</td>\n",
       "      <td>VVS2</td>\n",
       "      <td>62.2</td>\n",
       "      <td>60.0</td>\n",
       "      <td>6.04</td>\n",
       "      <td>6.12</td>\n",
       "      <td>3.78</td>\n",
       "      <td>6289</td>\n",
       "    </tr>\n",
       "    <tr>\n",
       "      <th>3</th>\n",
       "      <td>0.42</td>\n",
       "      <td>Ideal</td>\n",
       "      <td>F</td>\n",
       "      <td>VS1</td>\n",
       "      <td>61.6</td>\n",
       "      <td>56.0</td>\n",
       "      <td>4.82</td>\n",
       "      <td>4.80</td>\n",
       "      <td>2.96</td>\n",
       "      <td>1082</td>\n",
       "    </tr>\n",
       "    <tr>\n",
       "      <th>4</th>\n",
       "      <td>0.31</td>\n",
       "      <td>Ideal</td>\n",
       "      <td>F</td>\n",
       "      <td>VVS1</td>\n",
       "      <td>60.4</td>\n",
       "      <td>59.0</td>\n",
       "      <td>4.35</td>\n",
       "      <td>4.43</td>\n",
       "      <td>2.65</td>\n",
       "      <td>779</td>\n",
       "    </tr>\n",
       "  </tbody>\n",
       "</table>\n",
       "</div>"
      ],
      "text/plain": [
       "   carat        cut color clarity  depth  table     x     y     z  price\n",
       "0   0.30      Ideal     E     SI1   62.1   58.0  4.27  4.29  2.66    499\n",
       "1   0.33    Premium     G      IF   60.8   58.0  4.42  4.46  2.70    984\n",
       "2   0.90  Very Good     E    VVS2   62.2   60.0  6.04  6.12  3.78   6289\n",
       "3   0.42      Ideal     F     VS1   61.6   56.0  4.82  4.80  2.96   1082\n",
       "4   0.31      Ideal     F    VVS1   60.4   59.0  4.35  4.43  2.65    779"
      ]
     },
     "execution_count": 69,
     "metadata": {},
     "output_type": "execute_result"
    }
   ],
   "source": [
    "df.head()"
   ]
  },
  {
   "cell_type": "markdown",
   "id": "69fc5796",
   "metadata": {},
   "source": [
    "# Some bivariate analysis"
   ]
  },
  {
   "cell_type": "code",
   "execution_count": 70,
   "id": "ffe8022f",
   "metadata": {},
   "outputs": [],
   "source": [
    "from scipy.stats import chi2_contingency\n",
    "def chi_square(c1,c2):\n",
    "    chi_2, p_val, dof, exp_val = chi2_contingency(pd.crosstab(df[c1],df[c2],margins = False))# make sure margins = False\n",
    "\n",
    "    print(exp_val)\n",
    "    #print('\\nChi-square is : %f'%chi_2, '\\n\\np_value is : %f'%p_val, '\\n\\ndegree of freedom is : %i'%dof)\n",
    "    print(f'\\nChi-square is : {chi_2}', f'\\n\\np_value is : {p_val}', f'\\n\\ndegree of freedom is :{dof}')\n",
    "\n",
    "    if p_val < 0.05:# consider significan level is 5%\n",
    "        print(\"\\nThere is statistiacally significant correlation between the two variables at 0.05 significant level\")\n",
    "    else:\n",
    "        print(\"\\nThere is no correlation between the two variables\")"
   ]
  },
  {
   "cell_type": "markdown",
   "id": "75e19be5",
   "metadata": {},
   "source": [
    "# Cut vs. price"
   ]
  },
  {
   "cell_type": "code",
   "execution_count": 71,
   "id": "54f8eb43",
   "metadata": {},
   "outputs": [
    {
     "data": {
      "text/plain": [
       "<seaborn.axisgrid.FacetGrid at 0x1b459262850>"
      ]
     },
     "execution_count": 71,
     "metadata": {},
     "output_type": "execute_result"
    },
    {
     "data": {
      "image/png": "[encoded data removed]",
      "text/plain": [
       "<Figure size 900x360 with 1 Axes>"
      ]
     },
     "metadata": {},
     "output_type": "display_data"
    }
   ],
   "source": [
    "sns.catplot(x='cut', y='price', kind='box', data=df, aspect=2.5)"
   ]
  },
  {
   "cell_type": "markdown",
   "id": "87073660",
   "metadata": {},
   "source": [
    "# Color vs. price"
   ]
  },
  {
   "cell_type": "code",
   "execution_count": 72,
   "id": "0fa7699b",
   "metadata": {},
   "outputs": [
    {
     "data": {
      "text/plain": [
       "<seaborn.axisgrid.FacetGrid at 0x1b45ae593a0>"
      ]
     },
     "execution_count": 72,
     "metadata": {},
     "output_type": "execute_result"
    },
    {
     "data": {
      "image/png": "[encoded data removed]",
      "text/plain": [
       "<Figure size 900x360 with 1 Axes>"
      ]
     },
     "metadata": {},
     "output_type": "display_data"
    }
   ],
   "source": [
    "sns.catplot(x='color', y='price', kind='box', data=df, aspect=2.5)"
   ]
  },
  {
   "cell_type": "markdown",
   "id": "6628bd63",
   "metadata": {},
   "source": [
    "# Clarity vs. price"
   ]
  },
  {
   "cell_type": "code",
   "execution_count": 73,
   "id": "ab9acd31",
   "metadata": {},
   "outputs": [
    {
     "data": {
      "text/plain": [
       "<seaborn.axisgrid.FacetGrid at 0x1b459c764f0>"
      ]
     },
     "execution_count": 73,
     "metadata": {},
     "output_type": "execute_result"
    },
    {
     "data": {
      "image/png": "[encoded data removed]",
      "text/plain": [
       "<Figure size 900x360 with 1 Axes>"
      ]
     },
     "metadata": {},
     "output_type": "display_data"
    }
   ],
   "source": [
    "sns.catplot(x='clarity', y='price', data=df, aspect =2.5, kind='box')"
   ]
  },
  {
   "cell_type": "code",
   "execution_count": 74,
   "id": "caf54681",
   "metadata": {},
   "outputs": [],
   "source": [
    "#ANOVA test for cut vs price\n",
    "# 1)Checking outliers: We already have handled outliers."
   ]
  },
  {
   "cell_type": "code",
   "execution_count": 75,
   "id": "87d9901b",
   "metadata": {},
   "outputs": [],
   "source": [
    "\n",
    "#2)Checking normality\n",
    "Ideal=df[df['cut']=='Ideal']['price']\n",
    "Premium=df[df['cut']=='Premium']['price']\n",
    "Very_good=df[df['cut']=='Very Good']['price']\n",
    "Good=df[df['cut']=='Good']['price']\n",
    "Fair=df[df['cut']=='Fair']['price']"
   ]
  },
  {
   "cell_type": "code",
   "execution_count": 76,
   "id": "1a7773d3",
   "metadata": {},
   "outputs": [],
   "source": [
    "import scipy.stats as stats"
   ]
  },
  {
   "cell_type": "code",
   "execution_count": 77,
   "id": "4fe6ca1b",
   "metadata": {},
   "outputs": [
    {
     "data": {
      "text/plain": [
       "ShapiroResult(statistic=0.7415571808815002, pvalue=0.0)"
      ]
     },
     "execution_count": 77,
     "metadata": {},
     "output_type": "execute_result"
    }
   ],
   "source": [
    "stats.shapiro(Ideal)"
   ]
  },
  {
   "cell_type": "code",
   "execution_count": 78,
   "id": "9afadcb7",
   "metadata": {},
   "outputs": [
    {
     "data": {
      "text/plain": [
       "ShapiroResult(statistic=0.833601713180542, pvalue=0.0)"
      ]
     },
     "execution_count": 78,
     "metadata": {},
     "output_type": "execute_result"
    }
   ],
   "source": [
    "stats.shapiro(Premium)"
   ]
  },
  {
   "cell_type": "code",
   "execution_count": 79,
   "id": "080190cf",
   "metadata": {},
   "outputs": [
    {
     "data": {
      "text/plain": [
       "ShapiroResult(statistic=0.8121811747550964, pvalue=0.0)"
      ]
     },
     "execution_count": 79,
     "metadata": {},
     "output_type": "execute_result"
    }
   ],
   "source": [
    "stats.shapiro(Very_good)"
   ]
  },
  {
   "cell_type": "code",
   "execution_count": 80,
   "id": "234b861d",
   "metadata": {},
   "outputs": [
    {
     "data": {
      "text/plain": [
       "ShapiroResult(statistic=0.8237051367759705, pvalue=1.401298464324817e-45)"
      ]
     },
     "execution_count": 80,
     "metadata": {},
     "output_type": "execute_result"
    }
   ],
   "source": [
    "stats.shapiro(Good)"
   ]
  },
  {
   "cell_type": "code",
   "execution_count": 81,
   "id": "e71af43e",
   "metadata": {},
   "outputs": [
    {
     "data": {
      "text/plain": [
       "ShapiroResult(statistic=0.8144354224205017, pvalue=5.090935205592058e-29)"
      ]
     },
     "execution_count": 81,
     "metadata": {},
     "output_type": "execute_result"
    }
   ],
   "source": [
    "stats.shapiro(Fair)"
   ]
  },
  {
   "cell_type": "raw",
   "id": "41e6ec2a",
   "metadata": {},
   "source": [
    "P-values indicate that the distribution is not normall. However, we have a large sample and can rely on CLT."
   ]
  },
  {
   "cell_type": "code",
   "execution_count": 82,
   "id": "18641089",
   "metadata": {},
   "outputs": [
    {
     "data": {
      "text/plain": [
       "LeveneResult(statistic=54.690315913291506, pvalue=5.3447155640361145e-46)"
      ]
     },
     "execution_count": 82,
     "metadata": {},
     "output_type": "execute_result"
    }
   ],
   "source": [
    "#3)Checking Checking the Homogeneity of Variances \n",
    "stats.levene(Ideal, Premium,Very_good,Good,Fair)"
   ]
  },
  {
   "cell_type": "raw",
   "id": "6ad0be1a",
   "metadata": {},
   "source": [
    "P-value shows that variances are not equal."
   ]
  },
  {
   "cell_type": "code",
   "execution_count": 83,
   "id": "2d7df986",
   "metadata": {},
   "outputs": [],
   "source": [
    "import pingouin as pg"
   ]
  },
  {
   "cell_type": "code",
   "execution_count": 84,
   "id": "9c8cbd65",
   "metadata": {},
   "outputs": [
    {
     "data": {
      "text/html": [
       "<div>\n",
       "<style scoped>\n",
       "    .dataframe tbody tr th:only-of-type {\n",
       "        vertical-align: middle;\n",
       "    }\n",
       "\n",
       "    .dataframe tbody tr th {\n",
       "        vertical-align: top;\n",
       "    }\n",
       "\n",
       "    .dataframe thead th {\n",
       "        text-align: right;\n",
       "    }\n",
       "</style>\n",
       "<table border=\"1\" class=\"dataframe\">\n",
       "  <thead>\n",
       "    <tr style=\"text-align: right;\">\n",
       "      <th></th>\n",
       "      <th>Source</th>\n",
       "      <th>ddof1</th>\n",
       "      <th>ddof2</th>\n",
       "      <th>F</th>\n",
       "      <th>p-unc</th>\n",
       "      <th>np2</th>\n",
       "    </tr>\n",
       "  </thead>\n",
       "  <tbody>\n",
       "    <tr>\n",
       "      <th>0</th>\n",
       "      <td>cut</td>\n",
       "      <td>4</td>\n",
       "      <td>4574.471112</td>\n",
       "      <td>81.891629</td>\n",
       "      <td>3.077712e-67</td>\n",
       "      <td>0.012436</td>\n",
       "    </tr>\n",
       "  </tbody>\n",
       "</table>\n",
       "</div>"
      ],
      "text/plain": [
       "  Source  ddof1        ddof2          F         p-unc       np2\n",
       "0    cut      4  4574.471112  81.891629  3.077712e-67  0.012436"
      ]
     },
     "execution_count": 84,
     "metadata": {},
     "output_type": "execute_result"
    }
   ],
   "source": [
    "pg.welch_anova(dv='price', between='cut', data=df)"
   ]
  },
  {
   "cell_type": "raw",
   "id": "5bca6f5f",
   "metadata": {},
   "source": [
    "The mean of price is significantly different accross 5 cuts, so we can perform the Games-Howell post-hoc test \n",
    "to see exactly which group means are different"
   ]
  },
  {
   "cell_type": "code",
   "execution_count": 85,
   "id": "b94ecdc7",
   "metadata": {},
   "outputs": [
    {
     "data": {
      "text/html": [
       "<div>\n",
       "<style scoped>\n",
       "    .dataframe tbody tr th:only-of-type {\n",
       "        vertical-align: middle;\n",
       "    }\n",
       "\n",
       "    .dataframe tbody tr th {\n",
       "        vertical-align: top;\n",
       "    }\n",
       "\n",
       "    .dataframe thead th {\n",
       "        text-align: right;\n",
       "    }\n",
       "</style>\n",
       "<table border=\"1\" class=\"dataframe\">\n",
       "  <thead>\n",
       "    <tr style=\"text-align: right;\">\n",
       "      <th></th>\n",
       "      <th>A</th>\n",
       "      <th>B</th>\n",
       "      <th>mean(A)</th>\n",
       "      <th>mean(B)</th>\n",
       "      <th>diff</th>\n",
       "      <th>se</th>\n",
       "      <th>T</th>\n",
       "      <th>df</th>\n",
       "      <th>pval</th>\n",
       "      <th>hedges</th>\n",
       "    </tr>\n",
       "  </thead>\n",
       "  <tbody>\n",
       "    <tr>\n",
       "      <th>0</th>\n",
       "      <td>Fair</td>\n",
       "      <td>Good</td>\n",
       "      <td>4568.096154</td>\n",
       "      <td>3926.336756</td>\n",
       "      <td>641.759398</td>\n",
       "      <td>152.884693</td>\n",
       "      <td>4.197669</td>\n",
       "      <td>1278.563531</td>\n",
       "      <td>0.001000</td>\n",
       "      <td>0.172664</td>\n",
       "    </tr>\n",
       "    <tr>\n",
       "      <th>1</th>\n",
       "      <td>Fair</td>\n",
       "      <td>Ideal</td>\n",
       "      <td>4568.096154</td>\n",
       "      <td>3454.820639</td>\n",
       "      <td>1113.275515</td>\n",
       "      <td>139.190589</td>\n",
       "      <td>7.998210</td>\n",
       "      <td>903.237586</td>\n",
       "      <td>0.001000</td>\n",
       "      <td>0.296519</td>\n",
       "    </tr>\n",
       "    <tr>\n",
       "      <th>2</th>\n",
       "      <td>Fair</td>\n",
       "      <td>Premium</td>\n",
       "      <td>4568.096154</td>\n",
       "      <td>4544.558525</td>\n",
       "      <td>23.537629</td>\n",
       "      <td>143.874234</td>\n",
       "      <td>0.163599</td>\n",
       "      <td>1028.881736</td>\n",
       "      <td>0.900000</td>\n",
       "      <td>0.006180</td>\n",
       "    </tr>\n",
       "    <tr>\n",
       "      <th>3</th>\n",
       "      <td>Fair</td>\n",
       "      <td>Very Good</td>\n",
       "      <td>4568.096154</td>\n",
       "      <td>4032.267961</td>\n",
       "      <td>535.828193</td>\n",
       "      <td>143.755489</td>\n",
       "      <td>3.727358</td>\n",
       "      <td>1025.189740</td>\n",
       "      <td>0.001903</td>\n",
       "      <td>0.141819</td>\n",
       "    </tr>\n",
       "    <tr>\n",
       "      <th>4</th>\n",
       "      <td>Good</td>\n",
       "      <td>Ideal</td>\n",
       "      <td>3926.336756</td>\n",
       "      <td>3454.820639</td>\n",
       "      <td>471.516117</td>\n",
       "      <td>82.284736</td>\n",
       "      <td>5.730299</td>\n",
       "      <td>3791.039155</td>\n",
       "      <td>0.001000</td>\n",
       "      <td>0.128539</td>\n",
       "    </tr>\n",
       "    <tr>\n",
       "      <th>5</th>\n",
       "      <td>Good</td>\n",
       "      <td>Premium</td>\n",
       "      <td>3926.336756</td>\n",
       "      <td>4544.558525</td>\n",
       "      <td>-618.221769</td>\n",
       "      <td>89.980847</td>\n",
       "      <td>-6.870593</td>\n",
       "      <td>5049.385136</td>\n",
       "      <td>0.001000</td>\n",
       "      <td>-0.161979</td>\n",
       "    </tr>\n",
       "    <tr>\n",
       "      <th>6</th>\n",
       "      <td>Good</td>\n",
       "      <td>Very Good</td>\n",
       "      <td>3926.336756</td>\n",
       "      <td>4032.267961</td>\n",
       "      <td>-105.931205</td>\n",
       "      <td>89.790858</td>\n",
       "      <td>-1.179755</td>\n",
       "      <td>4960.390322</td>\n",
       "      <td>0.735815</td>\n",
       "      <td>-0.028326</td>\n",
       "    </tr>\n",
       "    <tr>\n",
       "      <th>7</th>\n",
       "      <td>Ideal</td>\n",
       "      <td>Premium</td>\n",
       "      <td>3454.820639</td>\n",
       "      <td>4544.558525</td>\n",
       "      <td>-1089.737886</td>\n",
       "      <td>64.006591</td>\n",
       "      <td>-17.025401</td>\n",
       "      <td>13476.931086</td>\n",
       "      <td>0.001000</td>\n",
       "      <td>-0.262518</td>\n",
       "    </tr>\n",
       "    <tr>\n",
       "      <th>8</th>\n",
       "      <td>Ideal</td>\n",
       "      <td>Very Good</td>\n",
       "      <td>3454.820639</td>\n",
       "      <td>4032.267961</td>\n",
       "      <td>-577.447322</td>\n",
       "      <td>63.739228</td>\n",
       "      <td>-9.059528</td>\n",
       "      <td>12073.704504</td>\n",
       "      <td>0.001000</td>\n",
       "      <td>-0.145643</td>\n",
       "    </tr>\n",
       "    <tr>\n",
       "      <th>9</th>\n",
       "      <td>Premium</td>\n",
       "      <td>Very Good</td>\n",
       "      <td>4544.558525</td>\n",
       "      <td>4032.267961</td>\n",
       "      <td>512.290564</td>\n",
       "      <td>73.406159</td>\n",
       "      <td>6.978850</td>\n",
       "      <td>12864.181824</td>\n",
       "      <td>0.001000</td>\n",
       "      <td>0.123094</td>\n",
       "    </tr>\n",
       "  </tbody>\n",
       "</table>\n",
       "</div>"
      ],
      "text/plain": [
       "         A          B      mean(A)      mean(B)         diff          se  \\\n",
       "0     Fair       Good  4568.096154  3926.336756   641.759398  152.884693   \n",
       "1     Fair      Ideal  4568.096154  3454.820639  1113.275515  139.190589   \n",
       "2     Fair    Premium  4568.096154  4544.558525    23.537629  143.874234   \n",
       "3     Fair  Very Good  4568.096154  4032.267961   535.828193  143.755489   \n",
       "4     Good      Ideal  3926.336756  3454.820639   471.516117   82.284736   \n",
       "5     Good    Premium  3926.336756  4544.558525  -618.221769   89.980847   \n",
       "6     Good  Very Good  3926.336756  4032.267961  -105.931205   89.790858   \n",
       "7    Ideal    Premium  3454.820639  4544.558525 -1089.737886   64.006591   \n",
       "8    Ideal  Very Good  3454.820639  4032.267961  -577.447322   63.739228   \n",
       "9  Premium  Very Good  4544.558525  4032.267961   512.290564   73.406159   \n",
       "\n",
       "           T            df      pval    hedges  \n",
       "0   4.197669   1278.563531  0.001000  0.172664  \n",
       "1   7.998210    903.237586  0.001000  0.296519  \n",
       "2   0.163599   1028.881736  0.900000  0.006180  \n",
       "3   3.727358   1025.189740  0.001903  0.141819  \n",
       "4   5.730299   3791.039155  0.001000  0.128539  \n",
       "5  -6.870593   5049.385136  0.001000 -0.161979  \n",
       "6  -1.179755   4960.390322  0.735815 -0.028326  \n",
       "7 -17.025401  13476.931086  0.001000 -0.262518  \n",
       "8  -9.059528  12073.704504  0.001000 -0.145643  \n",
       "9   6.978850  12864.181824  0.001000  0.123094  "
      ]
     },
     "execution_count": 85,
     "metadata": {},
     "output_type": "execute_result"
    }
   ],
   "source": [
    "pg.pairwise_gameshowell(dv='price', between='cut', data=df)"
   ]
  },
  {
   "cell_type": "code",
   "execution_count": 86,
   "id": "b6bf1db7",
   "metadata": {},
   "outputs": [
    {
     "name": "stdout",
     "output_type": "stream",
     "text": [
      "      Multiple Comparison of Means - Tukey HSD, FWER=0.05      \n",
      "===============================================================\n",
      " group1   group2   meandiff  p-adj    lower      upper   reject\n",
      "---------------------------------------------------------------\n",
      "   Fair      Good  -641.7594  0.001 -1090.4474 -193.0714   True\n",
      "   Fair     Ideal -1113.2755  0.001 -1517.6084 -708.9426   True\n",
      "   Fair   Premium   -23.5376    0.9  -435.5444  388.4691  False\n",
      "   Fair Very Good  -535.8282 0.0039  -950.8116 -120.8448   True\n",
      "   Good     Ideal  -471.5161  0.001  -716.1592 -226.8731   True\n",
      "   Good   Premium   618.2218  0.001    361.094  875.3496   True\n",
      "   Good Very Good   105.9312 0.7791  -155.9397  367.8021  False\n",
      "  Ideal   Premium  1089.7379  0.001   921.5747 1257.9011   True\n",
      "  Ideal Very Good   577.4473  0.001   402.1176  752.7771   True\n",
      "Premium Very Good  -512.2906  0.001  -704.6574 -319.9237   True\n",
      "---------------------------------------------------------------\n"
     ]
    }
   ],
   "source": [
    "from statsmodels.stats.multicomp import MultiComparison\n",
    "mul_comp = MultiComparison(df['price'],df['cut'])\n",
    "mul_result = mul_comp.tukeyhsd()\n",
    "print(mul_result)"
   ]
  },
  {
   "cell_type": "markdown",
   "id": "ac4f5450",
   "metadata": {},
   "source": [
    "# Applying Kruskal-Wallis Test"
   ]
  },
  {
   "cell_type": "code",
   "execution_count": 87,
   "id": "7a21a84f",
   "metadata": {},
   "outputs": [
    {
     "data": {
      "text/plain": [
       "KruskalResult(statistic=522.414665826958, pvalue=9.500391798118783e-112)"
      ]
     },
     "execution_count": 87,
     "metadata": {},
     "output_type": "execute_result"
    }
   ],
   "source": [
    "stats.kruskal(Ideal, Premium,Very_good,Good,Fair)"
   ]
  },
  {
   "cell_type": "markdown",
   "id": "c1c1814a",
   "metadata": {},
   "source": [
    "# Chi-squared test of independence (color vs. cut)"
   ]
  },
  {
   "cell_type": "code",
   "execution_count": 88,
   "id": "74e191fd",
   "metadata": {},
   "outputs": [
    {
     "name": "stdout",
     "output_type": "stream",
     "text": [
      "[[  96.75788067  302.05825567 1340.34474437  854.1984183   747.640701  ]\n",
      " [ 142.37106895  444.45327294 1972.20435896 1256.881001   1100.09029815]\n",
      " [ 136.78164334  427.00423273 1894.77648238 1207.53640515 1056.9012364 ]\n",
      " [ 163.71514499  511.08510006 2267.87454053 1445.31088256 1265.01433186]\n",
      " [ 118.59428953  370.22704489 1642.83499796 1046.97471503  916.36895259]\n",
      " [  80.0764861   249.98236364 1109.26465674  706.93164519  618.74484833]\n",
      " [  41.70348643  130.18973007  577.70021906  368.16693276  322.23963168]]\n",
      "\n",
      "Chi-square is : 179.6672163629662 \n",
      "\n",
      "p_value is : 8.480312724394933e-26 \n",
      "\n",
      "degree of freedom is :24\n",
      "\n",
      "There is statistiacally significant correlation between the two variables at 0.05 significant level\n"
     ]
    }
   ],
   "source": [
    "chi_square(\"color\",'cut')"
   ]
  },
  {
   "cell_type": "code",
   "execution_count": 89,
   "id": "2efdbf01",
   "metadata": {},
   "outputs": [],
   "source": [
    "df_original=df[:]"
   ]
  },
  {
   "cell_type": "raw",
   "id": "41c03089",
   "metadata": {},
   "source": [
    "There are 12 observations whose x or y or z values are zero. It is impossible, so we remove 12 observations from df."
   ]
  },
  {
   "cell_type": "code",
   "execution_count": 90,
   "id": "0787649c",
   "metadata": {},
   "outputs": [],
   "source": [
    "df.drop(df[(df.x ==0) | (df.y ==0) | (df.z ==0)].index, inplace=True)"
   ]
  },
  {
   "cell_type": "code",
   "execution_count": 91,
   "id": "ea893ab2",
   "metadata": {},
   "outputs": [
    {
     "data": {
      "text/plain": [
       "(26925, 10)"
      ]
     },
     "execution_count": 91,
     "metadata": {},
     "output_type": "execute_result"
    }
   ],
   "source": [
    "df.shape"
   ]
  },
  {
   "cell_type": "markdown",
   "id": "09c16f13",
   "metadata": {},
   "source": [
    "# Encoding(Mapping) \n"
   ]
  },
  {
   "cell_type": "code",
   "execution_count": 92,
   "id": "5855a58f",
   "metadata": {},
   "outputs": [
    {
     "name": "stdout",
     "output_type": "stream",
     "text": [
      "cut\n",
      " Ideal        10805\n",
      "Premium       6880\n",
      "Very Good     6027\n",
      "Good          2434\n",
      "Fair           779\n",
      "Name: cut, dtype: int64\n",
      "\n",
      "\n",
      "color\n",
      " G    5650\n",
      "E    4916\n",
      "F    4722\n",
      "H    4091\n",
      "D    3341\n",
      "I    2765\n",
      "J    1440\n",
      "Name: color, dtype: int64\n",
      "\n",
      "\n",
      "clarity\n",
      " SI1     6564\n",
      "VS2     6092\n",
      "SI2     4561\n",
      "VS1     4086\n",
      "VVS2    2530\n",
      "VVS1    1839\n",
      "IF       891\n",
      "I1       362\n",
      "Name: clarity, dtype: int64\n",
      "\n",
      "\n"
     ]
    }
   ],
   "source": [
    "#Geting unique counts of all Objects.¶\n",
    "print('cut\\n',df.cut.value_counts())\n",
    "print('\\n')\n",
    "print('color\\n',df.color.value_counts())\n",
    "print('\\n')\n",
    "print('clarity\\n',df.clarity.value_counts())\n",
    "print('\\n')"
   ]
  },
  {
   "cell_type": "code",
   "execution_count": 93,
   "id": "4defb0b6",
   "metadata": {},
   "outputs": [],
   "source": [
    "df['cut']=df['cut'].map({'Fair':0,'Good':1,'Very Good':2,'Premium':3,'Ideal':4 })"
   ]
  },
  {
   "cell_type": "code",
   "execution_count": 94,
   "id": "4677a8f1",
   "metadata": {},
   "outputs": [],
   "source": [
    "df['color']=df['color'].map({'J':0,'I':1,'H':2,'G':3,'F':4,'E':5,'D':6 })"
   ]
  },
  {
   "cell_type": "code",
   "execution_count": 95,
   "id": "33a0150a",
   "metadata": {},
   "outputs": [],
   "source": [
    "df['clarity']=df['clarity'].map({'I1':0,'SI2':1,'SI1':2,'VS2':3,'VS1':4,'VVS2':5,'VVS1':6,'IF':7 })"
   ]
  },
  {
   "cell_type": "code",
   "execution_count": 96,
   "id": "13dbbaea",
   "metadata": {},
   "outputs": [
    {
     "name": "stdout",
     "output_type": "stream",
     "text": [
      "<class 'pandas.core.frame.DataFrame'>\n",
      "Int64Index: 26925 entries, 0 to 26966\n",
      "Data columns (total 10 columns):\n",
      " #   Column   Non-Null Count  Dtype  \n",
      "---  ------   --------------  -----  \n",
      " 0   carat    26925 non-null  float64\n",
      " 1   cut      26925 non-null  int64  \n",
      " 2   color    26925 non-null  int64  \n",
      " 3   clarity  26925 non-null  int64  \n",
      " 4   depth    26925 non-null  float64\n",
      " 5   table    26925 non-null  float64\n",
      " 6   x        26925 non-null  float64\n",
      " 7   y        26925 non-null  float64\n",
      " 8   z        26925 non-null  float64\n",
      " 9   price    26925 non-null  int64  \n",
      "dtypes: float64(6), int64(4)\n",
      "memory usage: 2.3 MB\n"
     ]
    }
   ],
   "source": [
    "df.info()"
   ]
  },
  {
   "cell_type": "code",
   "execution_count": 97,
   "id": "80d30808",
   "metadata": {},
   "outputs": [
    {
     "data": {
      "text/html": [
       "<div>\n",
       "<style scoped>\n",
       "    .dataframe tbody tr th:only-of-type {\n",
       "        vertical-align: middle;\n",
       "    }\n",
       "\n",
       "    .dataframe tbody tr th {\n",
       "        vertical-align: top;\n",
       "    }\n",
       "\n",
       "    .dataframe thead th {\n",
       "        text-align: right;\n",
       "    }\n",
       "</style>\n",
       "<table border=\"1\" class=\"dataframe\">\n",
       "  <thead>\n",
       "    <tr style=\"text-align: right;\">\n",
       "      <th></th>\n",
       "      <th>carat</th>\n",
       "      <th>cut</th>\n",
       "      <th>color</th>\n",
       "      <th>clarity</th>\n",
       "      <th>depth</th>\n",
       "      <th>table</th>\n",
       "      <th>x</th>\n",
       "      <th>y</th>\n",
       "      <th>z</th>\n",
       "      <th>price</th>\n",
       "    </tr>\n",
       "  </thead>\n",
       "  <tbody>\n",
       "    <tr>\n",
       "      <th>0</th>\n",
       "      <td>0.30</td>\n",
       "      <td>4</td>\n",
       "      <td>5</td>\n",
       "      <td>2</td>\n",
       "      <td>62.1</td>\n",
       "      <td>58.0</td>\n",
       "      <td>4.27</td>\n",
       "      <td>4.29</td>\n",
       "      <td>2.66</td>\n",
       "      <td>499</td>\n",
       "    </tr>\n",
       "    <tr>\n",
       "      <th>1</th>\n",
       "      <td>0.33</td>\n",
       "      <td>3</td>\n",
       "      <td>3</td>\n",
       "      <td>7</td>\n",
       "      <td>60.8</td>\n",
       "      <td>58.0</td>\n",
       "      <td>4.42</td>\n",
       "      <td>4.46</td>\n",
       "      <td>2.70</td>\n",
       "      <td>984</td>\n",
       "    </tr>\n",
       "    <tr>\n",
       "      <th>2</th>\n",
       "      <td>0.90</td>\n",
       "      <td>2</td>\n",
       "      <td>5</td>\n",
       "      <td>5</td>\n",
       "      <td>62.2</td>\n",
       "      <td>60.0</td>\n",
       "      <td>6.04</td>\n",
       "      <td>6.12</td>\n",
       "      <td>3.78</td>\n",
       "      <td>6289</td>\n",
       "    </tr>\n",
       "    <tr>\n",
       "      <th>3</th>\n",
       "      <td>0.42</td>\n",
       "      <td>4</td>\n",
       "      <td>4</td>\n",
       "      <td>4</td>\n",
       "      <td>61.6</td>\n",
       "      <td>56.0</td>\n",
       "      <td>4.82</td>\n",
       "      <td>4.80</td>\n",
       "      <td>2.96</td>\n",
       "      <td>1082</td>\n",
       "    </tr>\n",
       "    <tr>\n",
       "      <th>4</th>\n",
       "      <td>0.31</td>\n",
       "      <td>4</td>\n",
       "      <td>4</td>\n",
       "      <td>6</td>\n",
       "      <td>60.4</td>\n",
       "      <td>59.0</td>\n",
       "      <td>4.35</td>\n",
       "      <td>4.43</td>\n",
       "      <td>2.65</td>\n",
       "      <td>779</td>\n",
       "    </tr>\n",
       "  </tbody>\n",
       "</table>\n",
       "</div>"
      ],
      "text/plain": [
       "   carat  cut  color  clarity  depth  table     x     y     z  price\n",
       "0   0.30    4      5        2   62.1   58.0  4.27  4.29  2.66    499\n",
       "1   0.33    3      3        7   60.8   58.0  4.42  4.46  2.70    984\n",
       "2   0.90    2      5        5   62.2   60.0  6.04  6.12  3.78   6289\n",
       "3   0.42    4      4        4   61.6   56.0  4.82  4.80  2.96   1082\n",
       "4   0.31    4      4        6   60.4   59.0  4.35  4.43  2.65    779"
      ]
     },
     "execution_count": 97,
     "metadata": {},
     "output_type": "execute_result"
    }
   ],
   "source": [
    "df.head()"
   ]
  },
  {
   "cell_type": "code",
   "execution_count": 98,
   "id": "140f6965",
   "metadata": {},
   "outputs": [
    {
     "data": {
      "text/html": [
       "<div>\n",
       "<style scoped>\n",
       "    .dataframe tbody tr th:only-of-type {\n",
       "        vertical-align: middle;\n",
       "    }\n",
       "\n",
       "    .dataframe tbody tr th {\n",
       "        vertical-align: top;\n",
       "    }\n",
       "\n",
       "    .dataframe thead th {\n",
       "        text-align: right;\n",
       "    }\n",
       "</style>\n",
       "<table border=\"1\" class=\"dataframe\">\n",
       "  <thead>\n",
       "    <tr style=\"text-align: right;\">\n",
       "      <th></th>\n",
       "      <th>carat</th>\n",
       "      <th>cut</th>\n",
       "      <th>color</th>\n",
       "      <th>clarity</th>\n",
       "      <th>depth</th>\n",
       "      <th>table</th>\n",
       "      <th>x</th>\n",
       "      <th>y</th>\n",
       "      <th>z</th>\n",
       "      <th>price</th>\n",
       "    </tr>\n",
       "  </thead>\n",
       "  <tbody>\n",
       "    <tr>\n",
       "      <th>carat</th>\n",
       "      <td>1.000000</td>\n",
       "      <td>-0.139894</td>\n",
       "      <td>-0.293870</td>\n",
       "      <td>-0.354934</td>\n",
       "      <td>0.032791</td>\n",
       "      <td>0.182308</td>\n",
       "      <td>0.978771</td>\n",
       "      <td>0.977548</td>\n",
       "      <td>0.976364</td>\n",
       "      <td>0.923459</td>\n",
       "    </tr>\n",
       "    <tr>\n",
       "      <th>cut</th>\n",
       "      <td>-0.139894</td>\n",
       "      <td>1.000000</td>\n",
       "      <td>0.026809</td>\n",
       "      <td>0.183331</td>\n",
       "      <td>-0.213494</td>\n",
       "      <td>-0.443083</td>\n",
       "      <td>-0.132945</td>\n",
       "      <td>-0.132776</td>\n",
       "      <td>-0.157876</td>\n",
       "      <td>-0.059806</td>\n",
       "    </tr>\n",
       "    <tr>\n",
       "      <th>color</th>\n",
       "      <td>-0.293870</td>\n",
       "      <td>0.026809</td>\n",
       "      <td>1.000000</td>\n",
       "      <td>-0.021455</td>\n",
       "      <td>-0.050177</td>\n",
       "      <td>-0.024119</td>\n",
       "      <td>-0.274167</td>\n",
       "      <td>-0.273767</td>\n",
       "      <td>-0.278117</td>\n",
       "      <td>-0.172710</td>\n",
       "    </tr>\n",
       "    <tr>\n",
       "      <th>clarity</th>\n",
       "      <td>-0.354934</td>\n",
       "      <td>0.183331</td>\n",
       "      <td>-0.021455</td>\n",
       "      <td>1.000000</td>\n",
       "      <td>-0.066167</td>\n",
       "      <td>-0.156719</td>\n",
       "      <td>-0.376204</td>\n",
       "      <td>-0.370930</td>\n",
       "      <td>-0.379017</td>\n",
       "      <td>-0.150683</td>\n",
       "    </tr>\n",
       "    <tr>\n",
       "      <th>depth</th>\n",
       "      <td>0.032791</td>\n",
       "      <td>-0.213494</td>\n",
       "      <td>-0.050177</td>\n",
       "      <td>-0.066167</td>\n",
       "      <td>1.000000</td>\n",
       "      <td>-0.297756</td>\n",
       "      <td>-0.019606</td>\n",
       "      <td>-0.023255</td>\n",
       "      <td>0.097890</td>\n",
       "      <td>-0.003317</td>\n",
       "    </tr>\n",
       "    <tr>\n",
       "      <th>table</th>\n",
       "      <td>0.182308</td>\n",
       "      <td>-0.443083</td>\n",
       "      <td>-0.024119</td>\n",
       "      <td>-0.156719</td>\n",
       "      <td>-0.297756</td>\n",
       "      <td>1.000000</td>\n",
       "      <td>0.198186</td>\n",
       "      <td>0.192040</td>\n",
       "      <td>0.157694</td>\n",
       "      <td>0.127542</td>\n",
       "    </tr>\n",
       "    <tr>\n",
       "      <th>x</th>\n",
       "      <td>0.978771</td>\n",
       "      <td>-0.132945</td>\n",
       "      <td>-0.274167</td>\n",
       "      <td>-0.376204</td>\n",
       "      <td>-0.019606</td>\n",
       "      <td>0.198186</td>\n",
       "      <td>1.000000</td>\n",
       "      <td>0.998280</td>\n",
       "      <td>0.990202</td>\n",
       "      <td>0.887467</td>\n",
       "    </tr>\n",
       "    <tr>\n",
       "      <th>y</th>\n",
       "      <td>0.977548</td>\n",
       "      <td>-0.132776</td>\n",
       "      <td>-0.273767</td>\n",
       "      <td>-0.370930</td>\n",
       "      <td>-0.023255</td>\n",
       "      <td>0.192040</td>\n",
       "      <td>0.998280</td>\n",
       "      <td>1.000000</td>\n",
       "      <td>0.990053</td>\n",
       "      <td>0.888818</td>\n",
       "    </tr>\n",
       "    <tr>\n",
       "      <th>z</th>\n",
       "      <td>0.976364</td>\n",
       "      <td>-0.157876</td>\n",
       "      <td>-0.278117</td>\n",
       "      <td>-0.379017</td>\n",
       "      <td>0.097890</td>\n",
       "      <td>0.157694</td>\n",
       "      <td>0.990202</td>\n",
       "      <td>0.990053</td>\n",
       "      <td>1.000000</td>\n",
       "      <td>0.881774</td>\n",
       "    </tr>\n",
       "    <tr>\n",
       "      <th>price</th>\n",
       "      <td>0.923459</td>\n",
       "      <td>-0.059806</td>\n",
       "      <td>-0.172710</td>\n",
       "      <td>-0.150683</td>\n",
       "      <td>-0.003317</td>\n",
       "      <td>0.127542</td>\n",
       "      <td>0.887467</td>\n",
       "      <td>0.888818</td>\n",
       "      <td>0.881774</td>\n",
       "      <td>1.000000</td>\n",
       "    </tr>\n",
       "  </tbody>\n",
       "</table>\n",
       "</div>"
      ],
      "text/plain": [
       "            carat       cut     color   clarity     depth     table         x  \\\n",
       "carat    1.000000 -0.139894 -0.293870 -0.354934  0.032791  0.182308  0.978771   \n",
       "cut     -0.139894  1.000000  0.026809  0.183331 -0.213494 -0.443083 -0.132945   \n",
       "color   -0.293870  0.026809  1.000000 -0.021455 -0.050177 -0.024119 -0.274167   \n",
       "clarity -0.354934  0.183331 -0.021455  1.000000 -0.066167 -0.156719 -0.376204   \n",
       "depth    0.032791 -0.213494 -0.050177 -0.066167  1.000000 -0.297756 -0.019606   \n",
       "table    0.182308 -0.443083 -0.024119 -0.156719 -0.297756  1.000000  0.198186   \n",
       "x        0.978771 -0.132945 -0.274167 -0.376204 -0.019606  0.198186  1.000000   \n",
       "y        0.977548 -0.132776 -0.273767 -0.370930 -0.023255  0.192040  0.998280   \n",
       "z        0.976364 -0.157876 -0.278117 -0.379017  0.097890  0.157694  0.990202   \n",
       "price    0.923459 -0.059806 -0.172710 -0.150683 -0.003317  0.127542  0.887467   \n",
       "\n",
       "                y         z     price  \n",
       "carat    0.977548  0.976364  0.923459  \n",
       "cut     -0.132776 -0.157876 -0.059806  \n",
       "color   -0.273767 -0.278117 -0.172710  \n",
       "clarity -0.370930 -0.379017 -0.150683  \n",
       "depth   -0.023255  0.097890 -0.003317  \n",
       "table    0.192040  0.157694  0.127542  \n",
       "x        0.998280  0.990202  0.887467  \n",
       "y        1.000000  0.990053  0.888818  \n",
       "z        0.990053  1.000000  0.881774  \n",
       "price    0.888818  0.881774  1.000000  "
      ]
     },
     "execution_count": 98,
     "metadata": {},
     "output_type": "execute_result"
    }
   ],
   "source": [
    "df.corr()"
   ]
  },
  {
   "cell_type": "markdown",
   "id": "3c22bd16",
   "metadata": {},
   "source": [
    "I am going to remove multicollinearity only for linear regression model. So, I am using df1 (as defined below) for linear regression and df for other models."
   ]
  },
  {
   "cell_type": "code",
   "execution_count": 99,
   "id": "0595d7cd",
   "metadata": {},
   "outputs": [],
   "source": [
    "df1=df.iloc[:,0:10]"
   ]
  },
  {
   "cell_type": "code",
   "execution_count": 100,
   "id": "21ef63b2",
   "metadata": {},
   "outputs": [],
   "source": [
    "#removing multicollinearity\n",
    "def remove_collinear_features(df1, threshold):\n",
    "\n",
    "    y = df1['price']\n",
    "    df1.drop(columns = ['price'],inplace=True)\n",
    "    \n",
    "    # Calculate the correlation matrix\n",
    "    corr_matrix = df1.corr()\n",
    "    iters = range(len(corr_matrix.columns) - 1)\n",
    "    drop_cols = []\n",
    "\n",
    "    # Iterate through the correlation matrix and compare correlations\n",
    "    for i in iters:\n",
    "        for j in range(i):\n",
    "            item = corr_matrix.iloc[j:(j+1), (i+1):(i+2)]\n",
    "            col = item.columns\n",
    "            row = item.index\n",
    "            val = abs(item.values)\n",
    "            \n",
    "            # If correlation exceeds the threshold\n",
    "            if val >= threshold:\n",
    "                # Print the correlated features and the correlation value\n",
    "                print(col.values[0], \"|\", row.values[0], \"|\", round(val[0][0], 2))\n",
    "                drop_cols.append(col.values[0])\n",
    "\n",
    "    # Drop one of each pair of correlated columns\n",
    "    drops = set(drop_cols)\n",
    "    df1 = df1.drop(columns = drops)\n",
    "    \n",
    "    # Add the price back in to the data\n",
    "    df1['price'] = y\n",
    "               \n",
    "    return df1"
   ]
  },
  {
   "cell_type": "code",
   "execution_count": 101,
   "id": "9ad16865",
   "metadata": {},
   "outputs": [
    {
     "name": "stdout",
     "output_type": "stream",
     "text": [
      "x | carat | 0.98\n",
      "y | carat | 0.98\n",
      "z | carat | 0.98\n",
      "z | x | 0.99\n"
     ]
    }
   ],
   "source": [
    "df1= remove_collinear_features(df1, 0.6)"
   ]
  },
  {
   "cell_type": "code",
   "execution_count": 102,
   "id": "6161abfa",
   "metadata": {},
   "outputs": [
    {
     "data": {
      "text/html": [
       "<div>\n",
       "<style scoped>\n",
       "    .dataframe tbody tr th:only-of-type {\n",
       "        vertical-align: middle;\n",
       "    }\n",
       "\n",
       "    .dataframe tbody tr th {\n",
       "        vertical-align: top;\n",
       "    }\n",
       "\n",
       "    .dataframe thead th {\n",
       "        text-align: right;\n",
       "    }\n",
       "</style>\n",
       "<table border=\"1\" class=\"dataframe\">\n",
       "  <thead>\n",
       "    <tr style=\"text-align: right;\">\n",
       "      <th></th>\n",
       "      <th>carat</th>\n",
       "      <th>cut</th>\n",
       "      <th>color</th>\n",
       "      <th>clarity</th>\n",
       "      <th>depth</th>\n",
       "      <th>table</th>\n",
       "      <th>price</th>\n",
       "    </tr>\n",
       "  </thead>\n",
       "  <tbody>\n",
       "    <tr>\n",
       "      <th>0</th>\n",
       "      <td>0.30</td>\n",
       "      <td>4</td>\n",
       "      <td>5</td>\n",
       "      <td>2</td>\n",
       "      <td>62.1</td>\n",
       "      <td>58.0</td>\n",
       "      <td>499</td>\n",
       "    </tr>\n",
       "    <tr>\n",
       "      <th>1</th>\n",
       "      <td>0.33</td>\n",
       "      <td>3</td>\n",
       "      <td>3</td>\n",
       "      <td>7</td>\n",
       "      <td>60.8</td>\n",
       "      <td>58.0</td>\n",
       "      <td>984</td>\n",
       "    </tr>\n",
       "    <tr>\n",
       "      <th>2</th>\n",
       "      <td>0.90</td>\n",
       "      <td>2</td>\n",
       "      <td>5</td>\n",
       "      <td>5</td>\n",
       "      <td>62.2</td>\n",
       "      <td>60.0</td>\n",
       "      <td>6289</td>\n",
       "    </tr>\n",
       "    <tr>\n",
       "      <th>3</th>\n",
       "      <td>0.42</td>\n",
       "      <td>4</td>\n",
       "      <td>4</td>\n",
       "      <td>4</td>\n",
       "      <td>61.6</td>\n",
       "      <td>56.0</td>\n",
       "      <td>1082</td>\n",
       "    </tr>\n",
       "    <tr>\n",
       "      <th>4</th>\n",
       "      <td>0.31</td>\n",
       "      <td>4</td>\n",
       "      <td>4</td>\n",
       "      <td>6</td>\n",
       "      <td>60.4</td>\n",
       "      <td>59.0</td>\n",
       "      <td>779</td>\n",
       "    </tr>\n",
       "  </tbody>\n",
       "</table>\n",
       "</div>"
      ],
      "text/plain": [
       "   carat  cut  color  clarity  depth  table  price\n",
       "0   0.30    4      5        2   62.1   58.0    499\n",
       "1   0.33    3      3        7   60.8   58.0    984\n",
       "2   0.90    2      5        5   62.2   60.0   6289\n",
       "3   0.42    4      4        4   61.6   56.0   1082\n",
       "4   0.31    4      4        6   60.4   59.0    779"
      ]
     },
     "execution_count": 102,
     "metadata": {},
     "output_type": "execute_result"
    }
   ],
   "source": [
    "df1.head()"
   ]
  },
  {
   "cell_type": "markdown",
   "id": "6cfd4a6e",
   "metadata": {},
   "source": [
    "# Scaling data"
   ]
  },
  {
   "cell_type": "code",
   "execution_count": 103,
   "id": "9341bbb7",
   "metadata": {},
   "outputs": [],
   "source": [
    "X=df1.drop('price',axis=1)\n",
    "\n",
    "y=df1['price']"
   ]
  },
  {
   "cell_type": "code",
   "execution_count": 104,
   "id": "90684af2",
   "metadata": {},
   "outputs": [],
   "source": [
    "from sklearn.preprocessing import StandardScaler\n",
    "sc = StandardScaler()\n",
    "X_scaled = sc.fit_transform(X)"
   ]
  },
  {
   "cell_type": "code",
   "execution_count": 105,
   "id": "7bbff75b",
   "metadata": {},
   "outputs": [],
   "source": [
    "X=X_scaled "
   ]
  },
  {
   "cell_type": "markdown",
   "id": "c10cb37d",
   "metadata": {},
   "source": [
    "# Train-test split"
   ]
  },
  {
   "cell_type": "code",
   "execution_count": 106,
   "id": "e029319a",
   "metadata": {},
   "outputs": [],
   "source": [
    "from sklearn.model_selection import train_test_split"
   ]
  },
  {
   "cell_type": "code",
   "execution_count": 107,
   "id": "c527016b",
   "metadata": {},
   "outputs": [],
   "source": [
    "X_train, X_test, y_train, y_test = train_test_split(X,y,test_size= 0.2,random_state=0)"
   ]
  },
  {
   "cell_type": "code",
   "execution_count": 108,
   "id": "44dc0bec",
   "metadata": {},
   "outputs": [],
   "source": [
    "import statsmodels.api as sm"
   ]
  },
  {
   "cell_type": "code",
   "execution_count": 109,
   "id": "0b5bac6b",
   "metadata": {},
   "outputs": [
    {
     "name": "stdout",
     "output_type": "stream",
     "text": [
      "                            OLS Regression Results                            \n",
      "==============================================================================\n",
      "Dep. Variable:                  price   R-squared:                       0.909\n",
      "Model:                            OLS   Adj. R-squared:                  0.909\n",
      "Method:                 Least Squares   F-statistic:                 3.568e+04\n",
      "Date:                Sun, 03 Apr 2022   Prob (F-statistic):               0.00\n",
      "Time:                        22:16:30   Log-Likelihood:            -1.8350e+05\n",
      "No. Observations:               21540   AIC:                         3.670e+05\n",
      "Df Residuals:                   21533   BIC:                         3.671e+05\n",
      "Df Model:                           6                                         \n",
      "Covariance Type:            nonrobust                                         \n",
      "==============================================================================\n",
      "                 coef    std err          t      P>|t|      [0.025      0.975]\n",
      "------------------------------------------------------------------------------\n",
      "const       3935.3117      8.259    476.463      0.000    3919.123    3951.501\n",
      "x1          4212.0478      9.455    445.487      0.000    4193.515    4230.580\n",
      "x2           134.7616     10.071     13.381      0.000     115.021     154.502\n",
      "x3           554.1729      8.734     63.451      0.000     537.054     571.292\n",
      "x4           854.0747      9.047     94.403      0.000     836.342     871.808\n",
      "x5           -59.8044      9.459     -6.323      0.000     -78.344     -41.265\n",
      "x6           -62.0564     10.457     -5.934      0.000     -82.553     -41.560\n",
      "==============================================================================\n",
      "Omnibus:                     4304.750   Durbin-Watson:                   1.982\n",
      "Prob(Omnibus):                  0.000   Jarque-Bera (JB):            34773.625\n",
      "Skew:                           0.739   Prob(JB):                         0.00\n",
      "Kurtosis:                       9.046   Cond. No.                         2.24\n",
      "==============================================================================\n",
      "\n",
      "Notes:\n",
      "[1] Standard Errors assume that the covariance matrix of the errors is correctly specified.\n"
     ]
    }
   ],
   "source": [
    "X1 = sm.add_constant(X_train)\n",
    "ols = sm.OLS(y_train,X1)\n",
    "lr = ols.fit()\n",
    "\n",
    "print(lr.summary())"
   ]
  },
  {
   "cell_type": "code",
   "execution_count": 110,
   "id": "202d4789",
   "metadata": {},
   "outputs": [],
   "source": [
    "from sklearn.linear_model import LinearRegression"
   ]
  },
  {
   "cell_type": "code",
   "execution_count": 111,
   "id": "948698e1",
   "metadata": {},
   "outputs": [],
   "source": [
    "model = LinearRegression()"
   ]
  },
  {
   "cell_type": "code",
   "execution_count": 112,
   "id": "647d27af",
   "metadata": {},
   "outputs": [],
   "source": [
    "model.fit(X_train,y_train)\n",
    "y_pred = model.predict(X_test)"
   ]
  },
  {
   "cell_type": "markdown",
   "id": "cfbe0ea7",
   "metadata": {},
   "source": [
    "## Model Evalaution"
   ]
  },
  {
   "cell_type": "code",
   "execution_count": 113,
   "id": "2d3d768f",
   "metadata": {},
   "outputs": [
    {
     "data": {
      "text/plain": [
       "Text(0, 0.5, 'y_pred')"
      ]
     },
     "execution_count": 113,
     "metadata": {},
     "output_type": "execute_result"
    },
    {
     "data": {
      "image/png": "[encoded data removed]",
      "text/plain": [
       "<Figure size 1440x360 with 1 Axes>"
      ]
     },
     "metadata": {},
     "output_type": "display_data"
    }
   ],
   "source": [
    "y_pred = model.predict(X_test)\n",
    "\n",
    "\n",
    "plt.scatter(y_test, y_pred, edgecolor='black')\n",
    "plt.xlabel(\"y_test\")\n",
    "plt.ylabel(\"y_pred\")"
   ]
  },
  {
   "cell_type": "code",
   "execution_count": 114,
   "id": "8f6bf24b",
   "metadata": {},
   "outputs": [],
   "source": [
    "from sklearn.metrics import mean_squared_error, r2_score"
   ]
  },
  {
   "cell_type": "code",
   "execution_count": 115,
   "id": "de36e88c",
   "metadata": {},
   "outputs": [
    {
     "name": "stdout",
     "output_type": "stream",
     "text": [
      "0.9049785580890433\n",
      "1571771.801404221\n",
      "1253.7032349819558\n"
     ]
    }
   ],
   "source": [
    "print(r2_score(y_test,y_pred)) #R^2\n",
    "print(mean_squared_error(y_test,y_pred)) #MSE\n",
    "print(np.math.sqrt(mean_squared_error(y_test,y_pred))) #RMSE"
   ]
  },
  {
   "cell_type": "code",
   "execution_count": 116,
   "id": "df8b7b49",
   "metadata": {},
   "outputs": [
    {
     "name": "stdout",
     "output_type": "stream",
     "text": [
      "0.9086135512534983\n"
     ]
    }
   ],
   "source": [
    "print(r2_score(y_train,model.predict(X_train)))"
   ]
  },
  {
   "cell_type": "code",
   "execution_count": 117,
   "id": "33060a84",
   "metadata": {},
   "outputs": [
    {
     "data": {
      "text/plain": [
       "0.9086135512534983"
      ]
     },
     "execution_count": 117,
     "metadata": {},
     "output_type": "execute_result"
    }
   ],
   "source": [
    "model.score(X_train,y_train) "
   ]
  },
  {
   "cell_type": "code",
   "execution_count": 118,
   "id": "6eb5dba1",
   "metadata": {},
   "outputs": [
    {
     "data": {
      "text/plain": [
       "0.9049785580890433"
      ]
     },
     "execution_count": 118,
     "metadata": {},
     "output_type": "execute_result"
    }
   ],
   "source": [
    "model.score(X_test,y_test) "
   ]
  },
  {
   "cell_type": "code",
   "execution_count": 119,
   "id": "452435dc",
   "metadata": {},
   "outputs": [
    {
     "name": "stdout",
     "output_type": "stream",
     "text": [
      "MAE: 872.3186973812143\n",
      "MSE: 1571771.801404221\n",
      "RMSE: 1253.7032349819558\n"
     ]
    }
   ],
   "source": [
    "from sklearn import metrics\n",
    "print('MAE:', metrics.mean_absolute_error(y_test, y_pred))\n",
    "print('MSE:', metrics.mean_squared_error(y_test, y_pred))\n",
    "print('RMSE:', np.sqrt(metrics.mean_squared_error(y_test,y_pred)))"
   ]
  },
  {
   "cell_type": "code",
   "execution_count": 120,
   "id": "c31f9a27",
   "metadata": {},
   "outputs": [
    {
     "data": {
      "text/plain": [
       "0.9078004034832114"
      ]
     },
     "execution_count": 120,
     "metadata": {},
     "output_type": "execute_result"
    }
   ],
   "source": [
    "\"\"\"K-FOLD CROSSVALIDATION\"\"\"\n",
    "from sklearn.model_selection import cross_val_score\n",
    "clr=LinearRegression()\n",
    "cross_val_score(clr,X,y,cv=4)\n",
    "cross_val_score(clr,X,y,cv=4).mean()"
   ]
  },
  {
   "cell_type": "code",
   "execution_count": 121,
   "id": "1568b611",
   "metadata": {},
   "outputs": [],
   "source": [
    "LR_score=cross_val_score(clr,X,y,cv=4).mean()"
   ]
  },
  {
   "cell_type": "raw",
   "id": "a37a73fe",
   "metadata": {},
   "source": [
    "I removed multi-colinear features to run a linear regression model; Now I 'm using df instead of df1 for the rest of my work.. "
   ]
  },
  {
   "cell_type": "markdown",
   "id": "67ff18af",
   "metadata": {},
   "source": [
    "# KNN Regression"
   ]
  },
  {
   "cell_type": "code",
   "execution_count": 122,
   "id": "ecb19313",
   "metadata": {},
   "outputs": [],
   "source": [
    "X=df.drop('price',axis=1)\n",
    "y=df.price"
   ]
  },
  {
   "cell_type": "code",
   "execution_count": 124,
   "id": "f70ed80e",
   "metadata": {},
   "outputs": [],
   "source": [
    "from sklearn.neighbors import KNeighborsRegressor\n",
    "model = KNeighborsRegressor()"
   ]
  },
  {
   "cell_type": "code",
   "execution_count": 125,
   "id": "2a8c2b8a",
   "metadata": {},
   "outputs": [
    {
     "data": {
      "text/plain": [
       "KNeighborsRegressor()"
      ]
     },
     "execution_count": 125,
     "metadata": {},
     "output_type": "execute_result"
    }
   ],
   "source": [
    "model.fit(X_train,y_train)"
   ]
  },
  {
   "cell_type": "code",
   "execution_count": 126,
   "id": "d5347ae3",
   "metadata": {},
   "outputs": [],
   "source": [
    "y_pred = model.predict(X_test)"
   ]
  },
  {
   "cell_type": "code",
   "execution_count": 127,
   "id": "9c129700",
   "metadata": {},
   "outputs": [
    {
     "name": "stdout",
     "output_type": "stream",
     "text": [
      "MAE: 505.4788472964943\n",
      "MSE: 828903.9893048129\n",
      "RMSE: 910.4416451946895\n"
     ]
    }
   ],
   "source": [
    "print('MAE:', metrics.mean_absolute_error(y_test, y_pred))\n",
    "print('MSE:', metrics.mean_squared_error(y_test, y_pred))\n",
    "print('RMSE:', np.sqrt(metrics.mean_squared_error(y_test,y_pred)))"
   ]
  },
  {
   "cell_type": "code",
   "execution_count": 128,
   "id": "676fcbb5",
   "metadata": {},
   "outputs": [
    {
     "name": "stdout",
     "output_type": "stream",
     "text": [
      "0.9500566645013553\n",
      "0.9644130513805755\n"
     ]
    }
   ],
   "source": [
    "print(r2_score(y_test,y_pred))\n",
    "print(r2_score(y_train,model.predict(X_train)))"
   ]
  },
  {
   "cell_type": "code",
   "execution_count": 129,
   "id": "45e801aa",
   "metadata": {},
   "outputs": [
    {
     "name": "stdout",
     "output_type": "stream",
     "text": [
      "[0.94420418 0.94644006 0.94733504 0.94785705]\n",
      "0.9464590823898021\n"
     ]
    }
   ],
   "source": [
    "\"\"\"K-FOLD CROSSVALIDATION\"\"\"\n",
    "clr=KNeighborsRegressor()\n",
    "print(cross_val_score(clr,X,y,cv=4))\n",
    "print(cross_val_score(clr,X,y,cv=4).mean())"
   ]
  },
  {
   "cell_type": "markdown",
   "id": "0058cc50",
   "metadata": {},
   "source": [
    "## Tuning"
   ]
  },
  {
   "cell_type": "code",
   "execution_count": 130,
   "id": "1532a874",
   "metadata": {},
   "outputs": [],
   "source": [
    "scores = []\n",
    "for i in range(1,30):\n",
    "    clf3 = KNeighborsRegressor(n_neighbors=i)\n",
    "    scores.append(cross_val_score(clf3,X,y,cv=4).mean())"
   ]
  },
  {
   "cell_type": "code",
   "execution_count": 131,
   "id": "50a281e5",
   "metadata": {},
   "outputs": [
    {
     "data": {
      "text/plain": [
       "Text(0.5, 1.0, 'Finding optimal K')"
      ]
     },
     "execution_count": 131,
     "metadata": {},
     "output_type": "execute_result"
    },
    {
     "data": {
      "image/png": "[encoded data removed]",
      "text/plain": [
       "<Figure size 1440x360 with 1 Axes>"
      ]
     },
     "metadata": {},
     "output_type": "display_data"
    }
   ],
   "source": [
    "import matplotlib.pyplot as plt\n",
    "plt.plot(range(1,30),scores)\n",
    "plt.xlabel(\"K\")\n",
    "plt.ylabel(\"Accuracy\")\n",
    "plt.title(\"Finding optimal K\")"
   ]
  },
  {
   "cell_type": "code",
   "execution_count": 132,
   "id": "ccd9aea2",
   "metadata": {},
   "outputs": [
    {
     "data": {
      "text/plain": [
       "0.9485943150276139"
      ]
     },
     "execution_count": 132,
     "metadata": {},
     "output_type": "execute_result"
    }
   ],
   "source": [
    "max(scores)"
   ]
  },
  {
   "cell_type": "code",
   "execution_count": 133,
   "id": "15f97e92",
   "metadata": {},
   "outputs": [
    {
     "data": {
      "text/plain": [
       "9"
      ]
     },
     "execution_count": 133,
     "metadata": {},
     "output_type": "execute_result"
    }
   ],
   "source": [
    "scores.index(max(scores))"
   ]
  },
  {
   "cell_type": "code",
   "execution_count": 134,
   "id": "cfd26e47",
   "metadata": {},
   "outputs": [],
   "source": [
    "model = KNeighborsRegressor(n_neighbors=6)"
   ]
  },
  {
   "cell_type": "code",
   "execution_count": 135,
   "id": "64fbf7f2",
   "metadata": {},
   "outputs": [
    {
     "data": {
      "text/plain": [
       "KNeighborsRegressor(n_neighbors=6)"
      ]
     },
     "execution_count": 135,
     "metadata": {},
     "output_type": "execute_result"
    }
   ],
   "source": [
    "#training\n",
    "model.fit(X_train,y_train)"
   ]
  },
  {
   "cell_type": "code",
   "execution_count": 136,
   "id": "9ce119ca",
   "metadata": {},
   "outputs": [],
   "source": [
    "y_pred = model.predict(X_test)"
   ]
  },
  {
   "cell_type": "code",
   "execution_count": 137,
   "id": "f99ed229",
   "metadata": {},
   "outputs": [
    {
     "name": "stdout",
     "output_type": "stream",
     "text": [
      "MAE: 504.8332095464449\n",
      "MSE: 826325.3536550142\n",
      "RMSE: 909.0243966225627\n"
     ]
    }
   ],
   "source": [
    "print('MAE:', metrics.mean_absolute_error(y_test, y_pred))\n",
    "print('MSE:', metrics.mean_squared_error(y_test, y_pred))\n",
    "print('RMSE:', np.sqrt(metrics.mean_squared_error(y_test,y_pred)))"
   ]
  },
  {
   "cell_type": "code",
   "execution_count": 138,
   "id": "01e95e35",
   "metadata": {},
   "outputs": [
    {
     "name": "stdout",
     "output_type": "stream",
     "text": [
      "0.9502120331170796\n",
      "0.9621440468678794\n"
     ]
    }
   ],
   "source": [
    "print(r2_score(y_test,y_pred))\n",
    "print(r2_score(y_train,model.predict(X_train)))"
   ]
  },
  {
   "cell_type": "code",
   "execution_count": 139,
   "id": "55eb28fb",
   "metadata": {},
   "outputs": [
    {
     "name": "stdout",
     "output_type": "stream",
     "text": [
      "Adjusted_R2=  0.9501453726437166\n"
     ]
    }
   ],
   "source": [
    "print('Adjusted_R2= ',1 - (((len(X_test.index) - 1) / (len(X_test.index) - len(X_test.columns) - 1)) * (1 - r2_score(y_test,y_pred))))"
   ]
  },
  {
   "cell_type": "code",
   "execution_count": 140,
   "id": "734c12ce",
   "metadata": {},
   "outputs": [
    {
     "name": "stdout",
     "output_type": "stream",
     "text": [
      "[0.94578657 0.94761525 0.94849203 0.94827636]\n",
      "0.9475425520245268\n"
     ]
    }
   ],
   "source": [
    "\"\"\"K-FOLD CROSSVALIDATION\"\"\"\n",
    "from sklearn.model_selection import cross_val_score\n",
    "clr=KNeighborsRegressor(n_neighbors=6)\n",
    "print(cross_val_score(clr,X,y,cv=4))\n",
    "print(cross_val_score(clr,X,y,cv=4).mean())"
   ]
  },
  {
   "cell_type": "code",
   "execution_count": 141,
   "id": "6722b255",
   "metadata": {},
   "outputs": [],
   "source": [
    "KNN_score=cross_val_score(clr,X,y,cv=4).mean()"
   ]
  },
  {
   "cell_type": "markdown",
   "id": "dbde84a4",
   "metadata": {},
   "source": [
    "# SVM"
   ]
  },
  {
   "cell_type": "code",
   "execution_count": 142,
   "id": "f114313f",
   "metadata": {},
   "outputs": [],
   "source": [
    "from sklearn.svm import SVR"
   ]
  },
  {
   "cell_type": "code",
   "execution_count": 143,
   "id": "d9e4170b",
   "metadata": {},
   "outputs": [
    {
     "name": "stdout",
     "output_type": "stream",
     "text": [
      "[0.79795585 0.79242403 0.79413093 0.79156148]\n",
      "0.7940180705373552\n"
     ]
    }
   ],
   "source": [
    "\"\"\"K-FOLD CROSSVALIDATION\"\"\"\n",
    "\n",
    "csvr=SVR(kernel='linear')\n",
    "print(cross_val_score(csvr,X,y,cv=4))\n",
    "print(cross_val_score(csvr,X,y,cv=4).mean())"
   ]
  },
  {
   "cell_type": "markdown",
   "id": "15660e8c",
   "metadata": {},
   "source": [
    "## Tuning"
   ]
  },
  {
   "cell_type": "markdown",
   "id": "3c1bd6fb",
   "metadata": {},
   "source": [
    "### GridSearchCV"
   ]
  },
  {
   "cell_type": "code",
   "execution_count": 144,
   "id": "29964612",
   "metadata": {},
   "outputs": [],
   "source": [
    "from sklearn.model_selection import GridSearchCV"
   ]
  },
  {
   "cell_type": "code",
   "execution_count": 145,
   "id": "1cb02674",
   "metadata": {},
   "outputs": [
    {
     "data": {
      "text/plain": [
       "{'kernel': 'linear'}"
      ]
     },
     "execution_count": 145,
     "metadata": {},
     "output_type": "execute_result"
    }
   ],
   "source": [
    "param_grid={\n",
    "                        #'C' : [0.1, 1, 10],\n",
    "                        'kernel': ['linear', 'poly', 'rbf'],\n",
    "                        #'degree': [2,3],\n",
    "                        #'gamma' : [0.1,0.2,1,10]\n",
    "                    }\n",
    "model61=GridSearchCV(SVR(),param_grid,cv=3)\n",
    "model61.fit(X,y)\n",
    "model61.best_params_"
   ]
  },
  {
   "cell_type": "code",
   "execution_count": 146,
   "id": "57e6c472",
   "metadata": {},
   "outputs": [
    {
     "data": {
      "text/plain": [
       "{'gamma': 0.1, 'kernel': 'linear'}"
      ]
     },
     "execution_count": 146,
     "metadata": {},
     "output_type": "execute_result"
    }
   ],
   "source": [
    "param_grid={\n",
    "                        #'C' : [0.1, 1, 10],\n",
    "                        'kernel': ['linear'],\n",
    "                        #'degree': [2,3],\n",
    "                        'gamma' : [0.1,0.2,1,2]\n",
    "                    }\n",
    "model61=GridSearchCV(SVR(),param_grid,cv=3)\n",
    "model61.fit(X,y)\n",
    "model61.best_params_"
   ]
  },
  {
   "cell_type": "code",
   "execution_count": 147,
   "id": "1e5b4d31",
   "metadata": {},
   "outputs": [
    {
     "data": {
      "text/plain": [
       "{'mean_fit_time': array([15.14395014, 15.24956338, 15.06887412, 15.01438642]),\n",
       " 'std_fit_time': array([0.12110408, 0.07913423, 0.17104187, 0.08037638]),\n",
       " 'mean_score_time': array([5.13086096, 5.04418651, 5.05664444, 4.97039739]),\n",
       " 'std_score_time': array([0.04721972, 0.08278513, 0.07638016, 0.12860207]),\n",
       " 'param_gamma': masked_array(data=[0.1, 0.2, 1, 2],\n",
       "              mask=[False, False, False, False],\n",
       "        fill_value='?',\n",
       "             dtype=object),\n",
       " 'param_kernel': masked_array(data=['linear', 'linear', 'linear', 'linear'],\n",
       "              mask=[False, False, False, False],\n",
       "        fill_value='?',\n",
       "             dtype=object),\n",
       " 'params': [{'gamma': 0.1, 'kernel': 'linear'},\n",
       "  {'gamma': 0.2, 'kernel': 'linear'},\n",
       "  {'gamma': 1, 'kernel': 'linear'},\n",
       "  {'gamma': 2, 'kernel': 'linear'}],\n",
       " 'split0_test_score': array([0.79367224, 0.79367224, 0.79367224, 0.79367224]),\n",
       " 'split1_test_score': array([0.78627551, 0.78627551, 0.78627551, 0.78627551]),\n",
       " 'split2_test_score': array([0.79044287, 0.79044287, 0.79044287, 0.79044287]),\n",
       " 'mean_test_score': array([0.7901302, 0.7901302, 0.7901302, 0.7901302]),\n",
       " 'std_test_score': array([0.00302779, 0.00302779, 0.00302779, 0.00302779]),\n",
       " 'rank_test_score': array([1, 1, 1, 1])}"
      ]
     },
     "execution_count": 147,
     "metadata": {},
     "output_type": "execute_result"
    }
   ],
   "source": [
    "model61.cv_results_ "
   ]
  },
  {
   "cell_type": "code",
   "execution_count": 148,
   "id": "cd0badbe",
   "metadata": {},
   "outputs": [],
   "source": [
    "model = model61.best_estimator_"
   ]
  },
  {
   "cell_type": "code",
   "execution_count": 149,
   "id": "13901946",
   "metadata": {},
   "outputs": [
    {
     "data": {
      "text/plain": [
       "SVR(gamma=0.1, kernel='linear')"
      ]
     },
     "execution_count": 149,
     "metadata": {},
     "output_type": "execute_result"
    }
   ],
   "source": [
    "#training\n",
    "model.fit(X_train,y_train)"
   ]
  },
  {
   "cell_type": "code",
   "execution_count": 150,
   "id": "5306f15e",
   "metadata": {},
   "outputs": [],
   "source": [
    "y_pred = model.predict(X_test)"
   ]
  },
  {
   "cell_type": "code",
   "execution_count": 151,
   "id": "508358ca",
   "metadata": {},
   "outputs": [
    {
     "name": "stdout",
     "output_type": "stream",
     "text": [
      "MAE: 1073.0074783079897\n",
      "MSE: 3478339.6312422785\n",
      "RMSE: 1865.0307319833307\n"
     ]
    }
   ],
   "source": [
    "print('MAE:', metrics.mean_absolute_error(y_test, y_pred))\n",
    "print('MSE:', metrics.mean_squared_error(y_test, y_pred))\n",
    "print('RMSE:', np.sqrt(metrics.mean_squared_error(y_test,y_pred)))"
   ]
  },
  {
   "cell_type": "code",
   "execution_count": 152,
   "id": "5a088abc",
   "metadata": {},
   "outputs": [
    {
     "name": "stdout",
     "output_type": "stream",
     "text": [
      "0.7904221895142993\n",
      "0.7914954540911632\n"
     ]
    }
   ],
   "source": [
    "print(r2_score(y_test,y_pred))\n",
    "print(r2_score(y_train,model.predict(X_train)))"
   ]
  },
  {
   "cell_type": "code",
   "execution_count": 153,
   "id": "5141e119",
   "metadata": {},
   "outputs": [
    {
     "name": "stdout",
     "output_type": "stream",
     "text": [
      "Adjusted_R2=  0.7901415884589034\n"
     ]
    }
   ],
   "source": [
    "print('Adjusted_R2= ',1 - (((len(X_test.index) - 1) / (len(X_test.index) - len(X_test.columns) - 1)) * (1 - r2_score(y_test,y_pred))))"
   ]
  },
  {
   "cell_type": "code",
   "execution_count": 154,
   "id": "6dbfe22f",
   "metadata": {},
   "outputs": [
    {
     "name": "stdout",
     "output_type": "stream",
     "text": [
      "[0.79795585 0.79242403 0.79413093 0.79156148]\n",
      "0.7940180705373552\n"
     ]
    }
   ],
   "source": [
    "\"\"\"K-FOLD CROSSVALIDATION\"\"\"\n",
    "svr=SVR(kernel='linear',gamma=.1)\n",
    "print(cross_val_score(svr,X,y,cv=4))\n",
    "print(cross_val_score(svr,X,y,cv=4).mean())"
   ]
  },
  {
   "cell_type": "code",
   "execution_count": 155,
   "id": "2ba34404",
   "metadata": {},
   "outputs": [],
   "source": [
    "SVM_score=cross_val_score(svr,X,y,cv=4).mean()"
   ]
  },
  {
   "cell_type": "markdown",
   "id": "ad1a1429",
   "metadata": {},
   "source": [
    "# Ensemble"
   ]
  },
  {
   "cell_type": "markdown",
   "id": "c1766b46",
   "metadata": {},
   "source": [
    "# Random Forest"
   ]
  },
  {
   "cell_type": "code",
   "execution_count": 156,
   "id": "b45dc534",
   "metadata": {},
   "outputs": [],
   "source": [
    "from sklearn.ensemble import RandomForestRegressor"
   ]
  },
  {
   "cell_type": "code",
   "execution_count": 157,
   "id": "313626d1",
   "metadata": {},
   "outputs": [],
   "source": [
    "RF=RandomForestRegressor(max_depth=3,n_estimators=20,random_state=0)"
   ]
  },
  {
   "cell_type": "code",
   "execution_count": 158,
   "id": "bd7378d4",
   "metadata": {},
   "outputs": [
    {
     "data": {
      "text/plain": [
       "RandomForestRegressor(max_depth=3, n_estimators=20, random_state=0)"
      ]
     },
     "execution_count": 158,
     "metadata": {},
     "output_type": "execute_result"
    }
   ],
   "source": [
    "RF.fit(X_train,y_train)"
   ]
  },
  {
   "cell_type": "code",
   "execution_count": 159,
   "id": "816fde55",
   "metadata": {},
   "outputs": [],
   "source": [
    "y_pred = RF.predict(X_test)"
   ]
  },
  {
   "cell_type": "code",
   "execution_count": 160,
   "id": "53703e0d",
   "metadata": {},
   "outputs": [
    {
     "name": "stdout",
     "output_type": "stream",
     "text": [
      "MAE: 722.2978089026378\n",
      "MSE: 1617753.537819636\n",
      "RMSE: 1271.9094062941888\n"
     ]
    }
   ],
   "source": [
    "# Ealuation\n",
    "print('MAE:', metrics.mean_absolute_error(y_test, y_pred))\n",
    "print('MSE:', metrics.mean_squared_error(y_test, y_pred))\n",
    "print('RMSE:', np.sqrt(metrics.mean_squared_error(y_test,y_pred)))"
   ]
  },
  {
   "cell_type": "code",
   "execution_count": 161,
   "id": "703627f1",
   "metadata": {},
   "outputs": [
    {
     "name": "stdout",
     "output_type": "stream",
     "text": [
      "0.9025266994296798\n",
      "0.8998827184142086\n"
     ]
    }
   ],
   "source": [
    "print(r2_score(y_test,y_pred))\n",
    "print(r2_score(y_train,RF.predict(X_train)))"
   ]
  },
  {
   "cell_type": "code",
   "execution_count": 162,
   "id": "09e7c3cb",
   "metadata": {},
   "outputs": [
    {
     "name": "stdout",
     "output_type": "stream",
     "text": [
      "[0.89738944 0.89672451 0.90334261 0.89479749]\n",
      "0.898063512193984\n"
     ]
    }
   ],
   "source": [
    "\"\"\"K-FOLD CROSSVALIDATION\"\"\"\n",
    "rfr=RandomForestRegressor(max_depth=3,n_estimators=20,random_state=0)\n",
    "print(cross_val_score(rfr,X,y,cv=4))\n",
    "print(cross_val_score(rfr,X,y,cv=4).mean())"
   ]
  },
  {
   "cell_type": "markdown",
   "id": "49ac11ef",
   "metadata": {},
   "source": [
    "## Tuning"
   ]
  },
  {
   "cell_type": "code",
   "execution_count": 163,
   "id": "0d254b38",
   "metadata": {},
   "outputs": [],
   "source": [
    "scores = []\n",
    "for i in range(1,20):\n",
    "    dt = RandomForestRegressor(max_depth=i,n_estimators=20,random_state=0)\n",
    "    scores.append(cross_val_score(dt,X,y,cv=4).mean())"
   ]
  },
  {
   "cell_type": "code",
   "execution_count": 164,
   "id": "82dba600",
   "metadata": {},
   "outputs": [
    {
     "data": {
      "text/plain": [
       "Text(0.5, 1.0, 'Finding optimal max_depth')"
      ]
     },
     "execution_count": 164,
     "metadata": {},
     "output_type": "execute_result"
    },
    {
     "data": {
      "image/png": "[encoded data removed]",
      "text/plain": [
       "<Figure size 1440x360 with 1 Axes>"
      ]
     },
     "metadata": {},
     "output_type": "display_data"
    }
   ],
   "source": [
    "plt.plot(range(1,20),scores)\n",
    "plt.xlabel(\"max_depth\")\n",
    "plt.ylabel(\"Accuracy\")\n",
    "plt.title(\"Finding optimal max_depth\")"
   ]
  },
  {
   "cell_type": "code",
   "execution_count": 165,
   "id": "dc112df3",
   "metadata": {},
   "outputs": [
    {
     "data": {
      "text/plain": [
       "0.9795193063962311"
      ]
     },
     "execution_count": 165,
     "metadata": {},
     "output_type": "execute_result"
    }
   ],
   "source": [
    "max(scores)"
   ]
  },
  {
   "cell_type": "code",
   "execution_count": 166,
   "id": "27a0cbf8",
   "metadata": {},
   "outputs": [
    {
     "data": {
      "text/plain": [
       "11"
      ]
     },
     "execution_count": 166,
     "metadata": {},
     "output_type": "execute_result"
    }
   ],
   "source": [
    "scores.index(max(scores))"
   ]
  },
  {
   "cell_type": "code",
   "execution_count": 167,
   "id": "5808ea3a",
   "metadata": {},
   "outputs": [],
   "source": [
    "param_grid={'n_estimators':range(10,110,10),'max_depth':[5],'min_samples_split':[3,5],\n",
    "          #  \"criterion\":[\"mse\", \"mae\"] #DEFAULT= IS MSE\n",
    "           }\n"
   ]
  },
  {
   "cell_type": "code",
   "execution_count": 168,
   "id": "f932c974",
   "metadata": {},
   "outputs": [
    {
     "data": {
      "text/plain": [
       "{'max_depth': 5, 'min_samples_split': 3, 'n_estimators': 100}"
      ]
     },
     "execution_count": 168,
     "metadata": {},
     "output_type": "execute_result"
    }
   ],
   "source": [
    "clf=GridSearchCV(RandomForestRegressor(random_state=0),param_grid,cv=5)\n",
    "clf.fit(X,y)\n",
    "clf.best_params_"
   ]
  },
  {
   "cell_type": "code",
   "execution_count": 169,
   "id": "aa36e27c",
   "metadata": {},
   "outputs": [],
   "source": [
    "RF=clf.best_estimator_"
   ]
  },
  {
   "cell_type": "code",
   "execution_count": 170,
   "id": "887e83ba",
   "metadata": {},
   "outputs": [
    {
     "data": {
      "text/plain": [
       "SVR(gamma=0.1, kernel='linear')"
      ]
     },
     "execution_count": 170,
     "metadata": {},
     "output_type": "execute_result"
    }
   ],
   "source": [
    "#training\n",
    "model.fit(X_train,y_train)"
   ]
  },
  {
   "cell_type": "code",
   "execution_count": 171,
   "id": "6db24967",
   "metadata": {},
   "outputs": [],
   "source": [
    "y_pred = model.predict(X_test)"
   ]
  },
  {
   "cell_type": "code",
   "execution_count": 172,
   "id": "8f2dc495",
   "metadata": {},
   "outputs": [
    {
     "name": "stdout",
     "output_type": "stream",
     "text": [
      "MAE: 1073.0074783079897\n",
      "MSE: 3478339.6312422785\n",
      "RMSE: 1865.0307319833307\n"
     ]
    }
   ],
   "source": [
    "print('MAE:', metrics.mean_absolute_error(y_test, y_pred))\n",
    "print('MSE:', metrics.mean_squared_error(y_test, y_pred))\n",
    "print('RMSE:', np.sqrt(metrics.mean_squared_error(y_test,y_pred)))"
   ]
  },
  {
   "cell_type": "code",
   "execution_count": 173,
   "id": "7006ba60",
   "metadata": {},
   "outputs": [
    {
     "name": "stdout",
     "output_type": "stream",
     "text": [
      "0.7904221895142993\n",
      "0.7914954540911632\n"
     ]
    }
   ],
   "source": [
    "print(r2_score(y_test,y_pred))\n",
    "print(r2_score(y_train,model.predict(X_train)))"
   ]
  },
  {
   "cell_type": "code",
   "execution_count": 174,
   "id": "71bceee1",
   "metadata": {},
   "outputs": [
    {
     "name": "stdout",
     "output_type": "stream",
     "text": [
      "Adjusted_R2=  0.7901415884589034\n"
     ]
    }
   ],
   "source": [
    "print('Adjusted_R2= ',1 - (((len(X_test.index) - 1) / (len(X_test.index) - len(X_test.columns) - 1)) * (1 - r2_score(y_test,y_pred))))"
   ]
  },
  {
   "cell_type": "code",
   "execution_count": 175,
   "id": "2f0f66a5",
   "metadata": {},
   "outputs": [
    {
     "name": "stdout",
     "output_type": "stream",
     "text": [
      "[0.95360203 0.94818806 0.95168926 0.94898952]\n",
      "0.9506172163894069\n"
     ]
    }
   ],
   "source": [
    "\"\"\"K-FOLD CROSSVALIDATION\"\"\"\n",
    "rfr=clf.best_estimator_\n",
    "print(cross_val_score(rfr,X,y,cv=4))\n",
    "print(cross_val_score(rfr,X,y,cv=4).mean())"
   ]
  },
  {
   "cell_type": "code",
   "execution_count": 176,
   "id": "c70e4217",
   "metadata": {},
   "outputs": [],
   "source": [
    "RF_score=cross_val_score(rfr,X,y,cv=4).mean()"
   ]
  },
  {
   "cell_type": "markdown",
   "id": "ced84c0c",
   "metadata": {},
   "source": [
    "# Adaboost"
   ]
  },
  {
   "cell_type": "code",
   "execution_count": 177,
   "id": "26bf4372",
   "metadata": {},
   "outputs": [],
   "source": [
    "from sklearn.ensemble import AdaBoostRegressor"
   ]
  },
  {
   "cell_type": "code",
   "execution_count": 178,
   "id": "1e3f170a",
   "metadata": {},
   "outputs": [],
   "source": [
    "model= AdaBoostRegressor(random_state=0)"
   ]
  },
  {
   "cell_type": "code",
   "execution_count": 179,
   "id": "6cf311e9",
   "metadata": {},
   "outputs": [
    {
     "data": {
      "text/plain": [
       "AdaBoostRegressor(random_state=0)"
      ]
     },
     "execution_count": 179,
     "metadata": {},
     "output_type": "execute_result"
    }
   ],
   "source": [
    "model.fit(X_train,y_train)"
   ]
  },
  {
   "cell_type": "code",
   "execution_count": 180,
   "id": "dd683de6",
   "metadata": {},
   "outputs": [],
   "source": [
    "y_pred = model.predict(X_test)"
   ]
  },
  {
   "cell_type": "code",
   "execution_count": 181,
   "id": "c018987b",
   "metadata": {},
   "outputs": [
    {
     "name": "stdout",
     "output_type": "stream",
     "text": [
      "MAE: 890.9344842151755\n",
      "MSE: 1348031.051104242\n",
      "RMSE: 1161.0473939957153\n"
     ]
    }
   ],
   "source": [
    "print('MAE:', metrics.mean_absolute_error(y_test, y_pred))\n",
    "print('MSE:', metrics.mean_squared_error(y_test, y_pred))\n",
    "print('RMSE:', np.sqrt(metrics.mean_squared_error(y_test,y_pred)))"
   ]
  },
  {
   "cell_type": "code",
   "execution_count": 182,
   "id": "2c6b0bcb",
   "metadata": {},
   "outputs": [
    {
     "name": "stdout",
     "output_type": "stream",
     "text": [
      "0.9187780877923457\n",
      "0.9153355464602971\n"
     ]
    }
   ],
   "source": [
    "print(r2_score(y_test,y_pred))\n",
    "print(r2_score(y_train,model.predict(X_train)))"
   ]
  },
  {
   "cell_type": "markdown",
   "id": "73709c49",
   "metadata": {},
   "source": [
    "## Tuning"
   ]
  },
  {
   "cell_type": "code",
   "execution_count": 183,
   "id": "1c8a8c3e",
   "metadata": {},
   "outputs": [
    {
     "data": {
      "text/plain": [
       "{'n_estimators': 30}"
      ]
     },
     "execution_count": 183,
     "metadata": {},
     "output_type": "execute_result"
    }
   ],
   "source": [
    "from sklearn.tree import DecisionTreeRegressor\n",
    "param_grid={'n_estimators':range(10,110,10) , }\n",
    "clf=GridSearchCV(AdaBoostRegressor(DecisionTreeRegressor(max_depth=5)),param_grid)\n",
    "clf.fit(X,y)\n",
    "clf.best_params_"
   ]
  },
  {
   "cell_type": "code",
   "execution_count": 184,
   "id": "56584083",
   "metadata": {},
   "outputs": [],
   "source": [
    "model= AdaBoostRegressor(DecisionTreeRegressor(max_depth=5),n_estimators=20,random_state=0)"
   ]
  },
  {
   "cell_type": "code",
   "execution_count": 185,
   "id": "cf31277b",
   "metadata": {},
   "outputs": [
    {
     "data": {
      "text/plain": [
       "AdaBoostRegressor(base_estimator=DecisionTreeRegressor(max_depth=5),\n",
       "                  n_estimators=20, random_state=0)"
      ]
     },
     "execution_count": 185,
     "metadata": {},
     "output_type": "execute_result"
    }
   ],
   "source": [
    "model.fit(X_train,y_train)"
   ]
  },
  {
   "cell_type": "code",
   "execution_count": 186,
   "id": "74a0ce19",
   "metadata": {},
   "outputs": [],
   "source": [
    "y_pred = model.predict(X_test)"
   ]
  },
  {
   "cell_type": "code",
   "execution_count": 187,
   "id": "256925c8",
   "metadata": {},
   "outputs": [
    {
     "name": "stdout",
     "output_type": "stream",
     "text": [
      "MAE: 464.90100534600015\n",
      "MSE: 558345.2664047085\n",
      "RMSE: 747.2250440159969\n"
     ]
    }
   ],
   "source": [
    "print('MAE:', metrics.mean_absolute_error(y_test, y_pred))\n",
    "print('MSE:', metrics.mean_squared_error(y_test, y_pred))\n",
    "print('RMSE:', np.sqrt(metrics.mean_squared_error(y_test,y_pred)))"
   ]
  },
  {
   "cell_type": "code",
   "execution_count": 188,
   "id": "37fde281",
   "metadata": {},
   "outputs": [
    {
     "name": "stdout",
     "output_type": "stream",
     "text": [
      "0.9663584379808358\n",
      "0.9671536167158261\n"
     ]
    }
   ],
   "source": [
    "print(r2_score(y_test,y_pred))\n",
    "print(r2_score(y_train,model.predict(X_train)))"
   ]
  },
  {
   "cell_type": "code",
   "execution_count": 189,
   "id": "b9aefaae",
   "metadata": {},
   "outputs": [
    {
     "name": "stdout",
     "output_type": "stream",
     "text": [
      "Adjusted_R2=  0.9663133957228511\n"
     ]
    }
   ],
   "source": [
    "print('Adjusted_R2= ',1 - (((len(X_test.index) - 1) / (len(X_test.index) - len(X_test.columns) - 1)) * (1 - r2_score(y_test,y_pred))))"
   ]
  },
  {
   "cell_type": "code",
   "execution_count": 190,
   "id": "41a009c9",
   "metadata": {},
   "outputs": [
    {
     "name": "stdout",
     "output_type": "stream",
     "text": [
      "[0.96662328 0.96611721 0.96788879 0.96650487]\n",
      "0.9667835350373484\n"
     ]
    }
   ],
   "source": [
    "\"\"\"K-FOLD CROSSVALIDATION\"\"\"\n",
    "adab= AdaBoostRegressor(DecisionTreeRegressor(max_depth=5),n_estimators=30,random_state=0)\n",
    "print(cross_val_score(adab,X,y,cv=4))\n",
    "print(cross_val_score(adab,X,y,cv=4).mean())"
   ]
  },
  {
   "cell_type": "code",
   "execution_count": 191,
   "id": "bb9380fa",
   "metadata": {},
   "outputs": [],
   "source": [
    "ADA_score=cross_val_score(adab,X,y,cv=4).mean()"
   ]
  },
  {
   "cell_type": "markdown",
   "id": "85502255",
   "metadata": {},
   "source": [
    "# Model Comparison"
   ]
  },
  {
   "cell_type": "code",
   "execution_count": 192,
   "id": "d38db9ff",
   "metadata": {},
   "outputs": [
    {
     "data": {
      "text/plain": [
       "Text(0.5, 1.0, 'Model Comparison on Score')"
      ]
     },
     "execution_count": 192,
     "metadata": {},
     "output_type": "execute_result"
    },
    {
     "data": {
      "image/png": "[encoded data removed]",
      "text/plain": [
       "<Figure size 1440x360 with 1 Axes>"
      ]
     },
     "metadata": {},
     "output_type": "display_data"
    }
   ],
   "source": [
    "plt.style.use('fivethirtyeight')\n",
    "figsize=(8, 6)\n",
    "\n",
    "# Dataframe to hold the results\n",
    "model_comparison = pd.DataFrame({'model': ['Linear Regression','KNN Regression',\n",
    "                                           'SVM','Random Forest','Adaboost'],\n",
    "                                 'score': [LR_score,KNN_score,SVM_score,RF_score,ADA_score\n",
    "                                          ]})\n",
    "\n",
    "# Horizontal bar chart \n",
    "model_comparison.sort_values('score', ascending = True).plot(x = 'model', y = 'score', kind = 'barh',\n",
    "                                                           color = 'green', edgecolor = 'black')\n",
    "\n",
    "# Plot formatting\n",
    "plt.ylabel(''); plt.yticks(size = 14); plt.xlabel('K-Fold Cross Validation'); plt.xticks(size = 14)\n",
    "plt.title('Model Comparison on Score', size = 20)"
   ]
  },
  {
   "cell_type": "code",
   "execution_count": null,
   "id": "04c73776",
   "metadata": {},
   "outputs": [],
   "source": []
  }
 ],
 "metadata": {
  "kernelspec": {
   "display_name": "Python 3 (ipykernel)",
   "language": "python",
   "name": "python3"
  },
  "language_info": {
   "codemirror_mode": {
    "name": "ipython",
    "version": 3
   },
   "file_extension": ".py",
   "mimetype": "text/x-python",
   "name": "python",
   "nbconvert_exporter": "python",
   "pygments_lexer": "ipython3",
   "version": "3.9.7"
  }
 },
 "nbformat": 4,
 "nbformat_minor": 5
}
